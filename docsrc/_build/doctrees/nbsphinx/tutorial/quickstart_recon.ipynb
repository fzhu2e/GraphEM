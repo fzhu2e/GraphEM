{
 "cells": [
  {
   "cell_type": "markdown",
   "metadata": {},
   "source": [
    "# Reconstruction using GraphEM"
   ]
  },
  {
   "cell_type": "markdown",
   "metadata": {},
   "source": [
    "**Expected time to run through: 5 hrs**\n",
    "\n",
    "This tutorial demonstrates how to get a reconstruction using GraphEM, leveraging HadCRUT4 and PAGES2k."
   ]
  },
  {
   "cell_type": "markdown",
   "metadata": {},
   "source": [
    "## Test data preparation\n",
    "\n",
    "To go through this tutorial, please prepare test data following the steps:\n",
    "\n",
    "Download the test case named “PAGES2k_HadCRUT” with this [link](https://drive.google.com/drive/folders/12V0Ny4eO2HKU40-Iy5Jiw2SAfVNzXXcd?usp=sharing).\n",
    "Create a directory named “testcases” in the same directory where this notebook sits.\n",
    "Put the unzipped direcotry “PAGES2k_HadCRUT” into “testcases”.\n",
    "\n",
    "Below, we first load some useful packages, including our `GraphEM`."
   ]
  },
  {
   "cell_type": "code",
   "execution_count": 1,
   "metadata": {},
   "outputs": [],
   "source": [
    "%load_ext autoreload\n",
    "%autoreload 2\n",
    "\n",
    "import LMRt\n",
    "import GraphEM\n",
    "import os\n",
    "import numpy as np\n",
    "import pandas as pd\n",
    "import xarray as xr\n",
    "import matplotlib.pyplot as  plt"
   ]
  },
  {
   "cell_type": "markdown",
   "metadata": {},
   "source": [
    "## Low-level workflow"
   ]
  },
  {
   "cell_type": "code",
   "execution_count": 2,
   "metadata": {},
   "outputs": [],
   "source": [
    "job = GraphEM.ReconJob()"
   ]
  },
  {
   "cell_type": "code",
   "execution_count": 3,
   "metadata": {},
   "outputs": [
    {
     "name": "stdout",
     "output_type": "stream",
     "text": [
      "\u001b[1m\u001b[36mGraphEM: job.load_configs() >>> loading reconstruction configurations from: ./testcases/PAGES2k_HadCRUT/configs.yml\u001b[0m\n",
      "\u001b[1m\u001b[32mGraphEM: job.load_configs() >>> job.configs created\u001b[0m\n",
      "\u001b[1m\u001b[36mGraphEM: job.load_configs() >>> job.configs[\"job_dirpath\"] = /Users/fzhu/Github/GraphEM/docsrc/tutorial/testcases/PAGES2k_HadCRUT/recon\u001b[0m\n",
      "\u001b[1m\u001b[32mGraphEM: job.load_configs() >>> /Users/fzhu/Github/GraphEM/docsrc/tutorial/testcases/PAGES2k_HadCRUT/recon created\u001b[0m\n",
      "{'anom_period': [1951, 1980],\n",
      " 'calib_period': [1930, 2000],\n",
      " 'job_dirpath': '/Users/fzhu/Github/GraphEM/docsrc/tutorial/testcases/PAGES2k_HadCRUT/recon',\n",
      " 'job_id': 'GraphEM_tutorial',\n",
      " 'obs_path': {'tas': './data/obs/HadCRUT.5.0.1.0.analysis.anomalies.ensemble_mean.nc'},\n",
      " 'obs_varname': {'lat': 'latitude', 'lon': 'longitude', 'tas': 'tas_mean'},\n",
      " 'proxydb_path': './data/proxy/pages2k_dataset.pkl',\n",
      " 'ptype_list': ['coral.d18O',\n",
      "                'coral.SrCa',\n",
      "                'coral.calc',\n",
      "                'tree.TRW',\n",
      "                'tree.MXD'],\n",
      " 'recon_period': [1500, 2000]}\n"
     ]
    }
   ],
   "source": [
    "job.load_configs('./testcases/PAGES2k_HadCRUT/configs.yml', verbose=True)"
   ]
  },
  {
   "cell_type": "code",
   "execution_count": 4,
   "metadata": {},
   "outputs": [
    {
     "name": "stdout",
     "output_type": "stream",
     "text": [
      "\u001b[1m\u001b[36mGraphEM: job.load_proxydb() >>> job.configs[\"proxydb_path\"] = /Users/fzhu/Github/GraphEM/docsrc/tutorial/testcases/PAGES2k_HadCRUT/data/proxy/pages2k_dataset.pkl\u001b[0m\n",
      "\u001b[1m\u001b[32mGraphEM: job.load_proxydb() >>> 692 records loaded\u001b[0m\n",
      "\u001b[1m\u001b[32mGraphEM: job.load_proxydb() >>> job.proxydb created\u001b[0m\n"
     ]
    }
   ],
   "source": [
    "job.load_proxydb(verbose=True)"
   ]
  },
  {
   "cell_type": "code",
   "execution_count": 5,
   "metadata": {},
   "outputs": [
    {
     "name": "stdout",
     "output_type": "stream",
     "text": [
      "\u001b[1m\u001b[36mGraphEM: job.filter_proxydb() >>> filtering proxy records according to: ['coral.d18O', 'coral.SrCa', 'coral.calc', 'tree.TRW', 'tree.MXD']\u001b[0m\n",
      "\u001b[1m\u001b[32mGraphEM: job.filter_proxydb() >>> 519 records remaining\u001b[0m\n"
     ]
    }
   ],
   "source": [
    "job.filter_proxydb(verbose=True)"
   ]
  },
  {
   "cell_type": "code",
   "execution_count": 6,
   "metadata": {},
   "outputs": [
    {
     "name": "stdout",
     "output_type": "stream",
     "text": [
      "\u001b[1m\u001b[36mGraphEM: job.seasonalize_proxydb() >>> job.configs[\"ptype_season\"] = {'coral.d18O': [1, 2, 3, 4, 5, 6, 7, 8, 9, 10, 11, 12], 'coral.SrCa': [1, 2, 3, 4, 5, 6, 7, 8, 9, 10, 11, 12], 'coral.calc': [1, 2, 3, 4, 5, 6, 7, 8, 9, 10, 11, 12], 'tree.TRW': [1, 2, 3, 4, 5, 6, 7, 8, 9, 10, 11, 12], 'tree.MXD': [1, 2, 3, 4, 5, 6, 7, 8, 9, 10, 11, 12]}\u001b[0m\n",
      "\u001b[1m\u001b[36mGraphEM: job.seasonalize_proxydb() >>> seasonalizing proxy records according to: {'coral.d18O': [1, 2, 3, 4, 5, 6, 7, 8, 9, 10, 11, 12], 'coral.SrCa': [1, 2, 3, 4, 5, 6, 7, 8, 9, 10, 11, 12], 'coral.calc': [1, 2, 3, 4, 5, 6, 7, 8, 9, 10, 11, 12], 'tree.TRW': [1, 2, 3, 4, 5, 6, 7, 8, 9, 10, 11, 12], 'tree.MXD': [1, 2, 3, 4, 5, 6, 7, 8, 9, 10, 11, 12]}\u001b[0m\n",
      "\u001b[1m\u001b[32mGraphEM: job.seasonalize_proxydb() >>> 519 records remaining\u001b[0m\n",
      "\u001b[1m\u001b[32mGraphEM: job.seasonalize_proxydb() >>> job.proxydb updated\u001b[0m\n"
     ]
    }
   ],
   "source": [
    "# ptype_season = {}\n",
    "# for k, v in job.proxydb.type_dict.items():\n",
    "#     ptype_season[k] = list(range(1, 13)) # annual\n",
    "    \n",
    "# job.seasonalize_proxydb(ptype_season, verbose=True)\n",
    "job.seasonalize_proxydb(verbose=True)"
   ]
  },
  {
   "cell_type": "code",
   "execution_count": 7,
   "metadata": {},
   "outputs": [
    {
     "name": "stdout",
     "output_type": "stream",
     "text": [
      "\u001b[1m\u001b[36mGraphEM: job.load_obs() >>> loading instrumental observation fields from: {'tas': '/Users/fzhu/Github/GraphEM/docsrc/tutorial/testcases/PAGES2k_HadCRUT/data/obs/HadCRUT.5.0.1.0.analysis.anomalies.ensemble_mean.nc'}\u001b[0m\n",
      "\u001b[1m\u001b[32mGraphEM: job.load_obs() >>> job.obs created\u001b[0m\n"
     ]
    }
   ],
   "source": [
    "job.load_obs(varname_dict={'lat': 'latitude', 'lon': 'longitude', 'tas': 'tas_mean'}, verbose=True)"
   ]
  },
  {
   "cell_type": "code",
   "execution_count": 8,
   "metadata": {},
   "outputs": [
    {
     "name": "stdout",
     "output_type": "stream",
     "text": [
      "\u001b[1m\u001b[36mGraphEM: job.seasonalize_obs() >>> job.configs[\"obs_season\"] = [1, 2, 3, 4, 5, 6, 7, 8, 9, 10, 11, 12]\u001b[0m\n",
      "\u001b[1m\u001b[30mGraphEM: job.seasonalize_obs() >>> seasonalized obs w/ season [1, 2, 3, 4, 5, 6, 7, 8, 9, 10, 11, 12]\u001b[0m\n",
      "Dataset Overview\n",
      "-----------------------\n",
      "\n",
      "     Name:  tas\n",
      "   Source:  /Users/fzhu/Github/GraphEM/docsrc/tutorial/testcases/PAGES2k_HadCRUT/data/obs/HadCRUT.5.0.1.0.analysis.anomalies.ensemble_mean.nc\n",
      "    Shape:  time:171, lat:36, lon:72\n",
      "\u001b[1m\u001b[32mGraphEM: job.seasonalize_obs() >>> job.obs updated\u001b[0m\n"
     ]
    },
    {
     "name": "stderr",
     "output_type": "stream",
     "text": [
      "/Users/fzhu/Github/LMRt/LMRt/utils.py:261: RuntimeWarning: Mean of empty slice\n",
      "  tmp = np.nanmean(var[inds, ...], axis=0)\n"
     ]
    }
   ],
   "source": [
    "job.seasonalize_obs(verbose=True)"
   ]
  },
  {
   "cell_type": "code",
   "execution_count": 9,
   "metadata": {},
   "outputs": [
    {
     "name": "stdout",
     "output_type": "stream",
     "text": [
      "\u001b[1m\u001b[32mGraphEM: job.prep_data() >>> job.recon_time created\u001b[0m\n",
      "\u001b[1m\u001b[32mGraphEM: job.prep_data() >>> job.calib_time created\u001b[0m\n",
      "\u001b[1m\u001b[32mGraphEM: job.prep_data() >>> job.calib_idx created\u001b[0m\n",
      "\u001b[1m\u001b[32mGraphEM: job.prep_data() >>> job.temp created\u001b[0m\n",
      "\u001b[1m\u001b[32mGraphEM: job.prep_data() >>> job.df_proxy created\u001b[0m\n",
      "\u001b[1m\u001b[32mGraphEM: job.prep_data() >>> job.proxy created\u001b[0m\n",
      "\u001b[1m\u001b[32mGraphEM: job.prep_data() >>> job.lonlat created\u001b[0m\n"
     ]
    }
   ],
   "source": [
    "job.prep_data(verbose=True)"
   ]
  },
  {
   "cell_type": "code",
   "execution_count": 10,
   "metadata": {},
   "outputs": [
    {
     "data": {
      "text/html": [
       "<div>\n",
       "<style scoped>\n",
       "    .dataframe tbody tr th:only-of-type {\n",
       "        vertical-align: middle;\n",
       "    }\n",
       "\n",
       "    .dataframe tbody tr th {\n",
       "        vertical-align: top;\n",
       "    }\n",
       "\n",
       "    .dataframe thead th {\n",
       "        text-align: right;\n",
       "    }\n",
       "</style>\n",
       "<table border=\"1\" class=\"dataframe\">\n",
       "  <thead>\n",
       "    <tr style=\"text-align: right;\">\n",
       "      <th></th>\n",
       "      <th>NAm_153</th>\n",
       "      <th>NAm_165</th>\n",
       "      <th>Asi_178</th>\n",
       "      <th>Asi_174</th>\n",
       "      <th>Asi_198</th>\n",
       "      <th>NAm_145</th>\n",
       "      <th>Arc_071</th>\n",
       "      <th>NAm_102</th>\n",
       "      <th>NAm_046</th>\n",
       "      <th>Ocn_065</th>\n",
       "      <th>...</th>\n",
       "      <th>NAm_143</th>\n",
       "      <th>Asi_208</th>\n",
       "      <th>Asi_119</th>\n",
       "      <th>Ocn_153</th>\n",
       "      <th>Asi_026</th>\n",
       "      <th>Ocn_169</th>\n",
       "      <th>Asi_201</th>\n",
       "      <th>Asi_179</th>\n",
       "      <th>Ocn_071</th>\n",
       "      <th>Ocn_072</th>\n",
       "    </tr>\n",
       "  </thead>\n",
       "  <tbody>\n",
       "    <tr>\n",
       "      <th>1500.0</th>\n",
       "      <td>NaN</td>\n",
       "      <td>NaN</td>\n",
       "      <td>0.994</td>\n",
       "      <td>NaN</td>\n",
       "      <td>NaN</td>\n",
       "      <td>NaN</td>\n",
       "      <td>1.06</td>\n",
       "      <td>NaN</td>\n",
       "      <td>1.026</td>\n",
       "      <td>NaN</td>\n",
       "      <td>...</td>\n",
       "      <td>NaN</td>\n",
       "      <td>0.805</td>\n",
       "      <td>0.849</td>\n",
       "      <td>NaN</td>\n",
       "      <td>0.710</td>\n",
       "      <td>NaN</td>\n",
       "      <td>NaN</td>\n",
       "      <td>NaN</td>\n",
       "      <td>NaN</td>\n",
       "      <td>NaN</td>\n",
       "    </tr>\n",
       "    <tr>\n",
       "      <th>1501.0</th>\n",
       "      <td>NaN</td>\n",
       "      <td>NaN</td>\n",
       "      <td>1.131</td>\n",
       "      <td>NaN</td>\n",
       "      <td>NaN</td>\n",
       "      <td>NaN</td>\n",
       "      <td>0.70</td>\n",
       "      <td>NaN</td>\n",
       "      <td>1.058</td>\n",
       "      <td>NaN</td>\n",
       "      <td>...</td>\n",
       "      <td>NaN</td>\n",
       "      <td>0.694</td>\n",
       "      <td>0.882</td>\n",
       "      <td>NaN</td>\n",
       "      <td>0.759</td>\n",
       "      <td>NaN</td>\n",
       "      <td>NaN</td>\n",
       "      <td>NaN</td>\n",
       "      <td>NaN</td>\n",
       "      <td>NaN</td>\n",
       "    </tr>\n",
       "    <tr>\n",
       "      <th>1502.0</th>\n",
       "      <td>NaN</td>\n",
       "      <td>NaN</td>\n",
       "      <td>0.898</td>\n",
       "      <td>NaN</td>\n",
       "      <td>NaN</td>\n",
       "      <td>NaN</td>\n",
       "      <td>1.31</td>\n",
       "      <td>NaN</td>\n",
       "      <td>1.088</td>\n",
       "      <td>NaN</td>\n",
       "      <td>...</td>\n",
       "      <td>NaN</td>\n",
       "      <td>0.742</td>\n",
       "      <td>0.620</td>\n",
       "      <td>NaN</td>\n",
       "      <td>0.944</td>\n",
       "      <td>NaN</td>\n",
       "      <td>NaN</td>\n",
       "      <td>NaN</td>\n",
       "      <td>NaN</td>\n",
       "      <td>NaN</td>\n",
       "    </tr>\n",
       "    <tr>\n",
       "      <th>1503.0</th>\n",
       "      <td>NaN</td>\n",
       "      <td>NaN</td>\n",
       "      <td>1.032</td>\n",
       "      <td>NaN</td>\n",
       "      <td>NaN</td>\n",
       "      <td>NaN</td>\n",
       "      <td>0.70</td>\n",
       "      <td>NaN</td>\n",
       "      <td>0.875</td>\n",
       "      <td>NaN</td>\n",
       "      <td>...</td>\n",
       "      <td>NaN</td>\n",
       "      <td>0.677</td>\n",
       "      <td>0.413</td>\n",
       "      <td>NaN</td>\n",
       "      <td>0.845</td>\n",
       "      <td>NaN</td>\n",
       "      <td>NaN</td>\n",
       "      <td>NaN</td>\n",
       "      <td>NaN</td>\n",
       "      <td>NaN</td>\n",
       "    </tr>\n",
       "    <tr>\n",
       "      <th>1504.0</th>\n",
       "      <td>NaN</td>\n",
       "      <td>NaN</td>\n",
       "      <td>0.832</td>\n",
       "      <td>NaN</td>\n",
       "      <td>NaN</td>\n",
       "      <td>NaN</td>\n",
       "      <td>-0.43</td>\n",
       "      <td>NaN</td>\n",
       "      <td>1.139</td>\n",
       "      <td>NaN</td>\n",
       "      <td>...</td>\n",
       "      <td>NaN</td>\n",
       "      <td>0.730</td>\n",
       "      <td>0.551</td>\n",
       "      <td>NaN</td>\n",
       "      <td>0.702</td>\n",
       "      <td>NaN</td>\n",
       "      <td>NaN</td>\n",
       "      <td>NaN</td>\n",
       "      <td>NaN</td>\n",
       "      <td>NaN</td>\n",
       "    </tr>\n",
       "    <tr>\n",
       "      <th>...</th>\n",
       "      <td>...</td>\n",
       "      <td>...</td>\n",
       "      <td>...</td>\n",
       "      <td>...</td>\n",
       "      <td>...</td>\n",
       "      <td>...</td>\n",
       "      <td>...</td>\n",
       "      <td>...</td>\n",
       "      <td>...</td>\n",
       "      <td>...</td>\n",
       "      <td>...</td>\n",
       "      <td>...</td>\n",
       "      <td>...</td>\n",
       "      <td>...</td>\n",
       "      <td>...</td>\n",
       "      <td>...</td>\n",
       "      <td>...</td>\n",
       "      <td>...</td>\n",
       "      <td>...</td>\n",
       "      <td>...</td>\n",
       "      <td>...</td>\n",
       "    </tr>\n",
       "    <tr>\n",
       "      <th>1996.0</th>\n",
       "      <td>1.346</td>\n",
       "      <td>NaN</td>\n",
       "      <td>1.028</td>\n",
       "      <td>NaN</td>\n",
       "      <td>1.647</td>\n",
       "      <td>1.146</td>\n",
       "      <td>1.36</td>\n",
       "      <td>1.033</td>\n",
       "      <td>1.373</td>\n",
       "      <td>NaN</td>\n",
       "      <td>...</td>\n",
       "      <td>NaN</td>\n",
       "      <td>1.490</td>\n",
       "      <td>0.813</td>\n",
       "      <td>9.099227</td>\n",
       "      <td>0.922</td>\n",
       "      <td>NaN</td>\n",
       "      <td>1.070</td>\n",
       "      <td>1.044</td>\n",
       "      <td>-4.114561</td>\n",
       "      <td>8.819362</td>\n",
       "    </tr>\n",
       "    <tr>\n",
       "      <th>1997.0</th>\n",
       "      <td>NaN</td>\n",
       "      <td>NaN</td>\n",
       "      <td>NaN</td>\n",
       "      <td>NaN</td>\n",
       "      <td>1.751</td>\n",
       "      <td>1.263</td>\n",
       "      <td>2.30</td>\n",
       "      <td>1.037</td>\n",
       "      <td>1.153</td>\n",
       "      <td>NaN</td>\n",
       "      <td>...</td>\n",
       "      <td>NaN</td>\n",
       "      <td>1.278</td>\n",
       "      <td>0.864</td>\n",
       "      <td>9.192620</td>\n",
       "      <td>1.112</td>\n",
       "      <td>NaN</td>\n",
       "      <td>1.007</td>\n",
       "      <td>1.166</td>\n",
       "      <td>-4.231963</td>\n",
       "      <td>8.767808</td>\n",
       "    </tr>\n",
       "    <tr>\n",
       "      <th>1998.0</th>\n",
       "      <td>NaN</td>\n",
       "      <td>NaN</td>\n",
       "      <td>NaN</td>\n",
       "      <td>NaN</td>\n",
       "      <td>1.499</td>\n",
       "      <td>1.054</td>\n",
       "      <td>0.67</td>\n",
       "      <td>1.171</td>\n",
       "      <td>1.369</td>\n",
       "      <td>NaN</td>\n",
       "      <td>...</td>\n",
       "      <td>NaN</td>\n",
       "      <td>1.332</td>\n",
       "      <td>0.743</td>\n",
       "      <td>9.124461</td>\n",
       "      <td>1.260</td>\n",
       "      <td>NaN</td>\n",
       "      <td>1.111</td>\n",
       "      <td>1.161</td>\n",
       "      <td>-4.427678</td>\n",
       "      <td>8.751082</td>\n",
       "    </tr>\n",
       "    <tr>\n",
       "      <th>1999.0</th>\n",
       "      <td>NaN</td>\n",
       "      <td>NaN</td>\n",
       "      <td>NaN</td>\n",
       "      <td>NaN</td>\n",
       "      <td>1.054</td>\n",
       "      <td>1.067</td>\n",
       "      <td>1.47</td>\n",
       "      <td>NaN</td>\n",
       "      <td>1.502</td>\n",
       "      <td>NaN</td>\n",
       "      <td>...</td>\n",
       "      <td>NaN</td>\n",
       "      <td>1.161</td>\n",
       "      <td>1.269</td>\n",
       "      <td>9.073438</td>\n",
       "      <td>0.980</td>\n",
       "      <td>NaN</td>\n",
       "      <td>1.402</td>\n",
       "      <td>0.851</td>\n",
       "      <td>-4.081667</td>\n",
       "      <td>8.825333</td>\n",
       "    </tr>\n",
       "    <tr>\n",
       "      <th>2000.0</th>\n",
       "      <td>NaN</td>\n",
       "      <td>NaN</td>\n",
       "      <td>NaN</td>\n",
       "      <td>NaN</td>\n",
       "      <td>0.842</td>\n",
       "      <td>0.994</td>\n",
       "      <td>1.97</td>\n",
       "      <td>NaN</td>\n",
       "      <td>1.674</td>\n",
       "      <td>NaN</td>\n",
       "      <td>...</td>\n",
       "      <td>NaN</td>\n",
       "      <td>0.837</td>\n",
       "      <td>1.644</td>\n",
       "      <td>9.078696</td>\n",
       "      <td>1.152</td>\n",
       "      <td>NaN</td>\n",
       "      <td>0.930</td>\n",
       "      <td>NaN</td>\n",
       "      <td>NaN</td>\n",
       "      <td>NaN</td>\n",
       "    </tr>\n",
       "  </tbody>\n",
       "</table>\n",
       "<p>501 rows × 519 columns</p>\n",
       "</div>"
      ],
      "text/plain": [
       "        NAm_153  NAm_165  Asi_178  Asi_174  Asi_198  NAm_145  Arc_071  \\\n",
       "1500.0      NaN      NaN    0.994      NaN      NaN      NaN     1.06   \n",
       "1501.0      NaN      NaN    1.131      NaN      NaN      NaN     0.70   \n",
       "1502.0      NaN      NaN    0.898      NaN      NaN      NaN     1.31   \n",
       "1503.0      NaN      NaN    1.032      NaN      NaN      NaN     0.70   \n",
       "1504.0      NaN      NaN    0.832      NaN      NaN      NaN    -0.43   \n",
       "...         ...      ...      ...      ...      ...      ...      ...   \n",
       "1996.0    1.346      NaN    1.028      NaN    1.647    1.146     1.36   \n",
       "1997.0      NaN      NaN      NaN      NaN    1.751    1.263     2.30   \n",
       "1998.0      NaN      NaN      NaN      NaN    1.499    1.054     0.67   \n",
       "1999.0      NaN      NaN      NaN      NaN    1.054    1.067     1.47   \n",
       "2000.0      NaN      NaN      NaN      NaN    0.842    0.994     1.97   \n",
       "\n",
       "        NAm_102  NAm_046  Ocn_065  ...  NAm_143  Asi_208  Asi_119   Ocn_153  \\\n",
       "1500.0      NaN    1.026      NaN  ...      NaN    0.805    0.849       NaN   \n",
       "1501.0      NaN    1.058      NaN  ...      NaN    0.694    0.882       NaN   \n",
       "1502.0      NaN    1.088      NaN  ...      NaN    0.742    0.620       NaN   \n",
       "1503.0      NaN    0.875      NaN  ...      NaN    0.677    0.413       NaN   \n",
       "1504.0      NaN    1.139      NaN  ...      NaN    0.730    0.551       NaN   \n",
       "...         ...      ...      ...  ...      ...      ...      ...       ...   \n",
       "1996.0    1.033    1.373      NaN  ...      NaN    1.490    0.813  9.099227   \n",
       "1997.0    1.037    1.153      NaN  ...      NaN    1.278    0.864  9.192620   \n",
       "1998.0    1.171    1.369      NaN  ...      NaN    1.332    0.743  9.124461   \n",
       "1999.0      NaN    1.502      NaN  ...      NaN    1.161    1.269  9.073438   \n",
       "2000.0      NaN    1.674      NaN  ...      NaN    0.837    1.644  9.078696   \n",
       "\n",
       "        Asi_026  Ocn_169  Asi_201  Asi_179   Ocn_071   Ocn_072  \n",
       "1500.0    0.710      NaN      NaN      NaN       NaN       NaN  \n",
       "1501.0    0.759      NaN      NaN      NaN       NaN       NaN  \n",
       "1502.0    0.944      NaN      NaN      NaN       NaN       NaN  \n",
       "1503.0    0.845      NaN      NaN      NaN       NaN       NaN  \n",
       "1504.0    0.702      NaN      NaN      NaN       NaN       NaN  \n",
       "...         ...      ...      ...      ...       ...       ...  \n",
       "1996.0    0.922      NaN    1.070    1.044 -4.114561  8.819362  \n",
       "1997.0    1.112      NaN    1.007    1.166 -4.231963  8.767808  \n",
       "1998.0    1.260      NaN    1.111    1.161 -4.427678  8.751082  \n",
       "1999.0    0.980      NaN    1.402    0.851 -4.081667  8.825333  \n",
       "2000.0    1.152      NaN    0.930      NaN       NaN       NaN  \n",
       "\n",
       "[501 rows x 519 columns]"
      ]
     },
     "execution_count": 10,
     "metadata": {},
     "output_type": "execute_result"
    }
   ],
   "source": [
    "job.df_proxy"
   ]
  },
  {
   "cell_type": "code",
   "execution_count": 11,
   "metadata": {},
   "outputs": [
    {
     "name": "stdout",
     "output_type": "stream",
     "text": [
      "(501, 2592)\n",
      "(501, 519)\n",
      "(3111, 2)\n"
     ]
    }
   ],
   "source": [
    "print(np.shape(job.temp))\n",
    "print(np.shape(job.proxy))\n",
    "print(np.shape(job.lonlat))"
   ]
  },
  {
   "cell_type": "code",
   "execution_count": 12,
   "metadata": {},
   "outputs": [
    {
     "name": "stdout",
     "output_type": "stream",
     "text": [
      "\u001b[1m\u001b[36mLMRt: job.save_job() >>> Prepration data saved to: /Users/fzhu/Github/GraphEM/docsrc/tutorial/testcases/PAGES2k_HadCRUT/recon/job.pkl\u001b[0m\n",
      "\u001b[1m\u001b[36mLMRt: job.save_job() >>> job.configs[\"prep_savepath\"] = /Users/fzhu/Github/GraphEM/docsrc/tutorial/testcases/PAGES2k_HadCRUT/recon/job.pkl\u001b[0m\n"
     ]
    }
   ],
   "source": [
    "job.save(verbose=True)"
   ]
  },
  {
   "cell_type": "code",
   "execution_count": 13,
   "metadata": {
    "tags": []
   },
   "outputs": [
    {
     "name": "stdout",
     "output_type": "stream",
     "text": [
      "Estimating graph using neighborhood method\n",
      "Running GraphEM:\n",
      "\n",
      "Iter     dXmis     rdXmis\n",
      "\n",
      "001     0.3304     0.0900\n",
      "002     0.3269     0.0914\n",
      "003     0.1768     0.0516\n",
      "004     0.1376     0.0413\n",
      "005     0.1085     0.0331\n",
      "006     0.1010     0.0307\n",
      "007     0.1025     0.0309\n",
      "008     0.1075     0.0318\n",
      "009     0.1023     0.0297\n",
      "010     0.0868     0.0247\n",
      "011     0.0694     0.0194\n",
      "012     0.0563     0.0156\n",
      "013     0.0486     0.0134\n",
      "014     0.0469     0.0128\n",
      "015     0.0476     0.0130\n",
      "016     0.0478     0.0130\n",
      "017     0.0497     0.0135\n",
      "018     0.0498     0.0135\n",
      "019     0.0498     0.0135\n",
      "020     0.0507     0.0137\n",
      "021     0.0496     0.0134\n",
      "022     0.0489     0.0132\n",
      "023     0.0483     0.0131\n",
      "024     0.0480     0.0130\n",
      "025     0.0481     0.0130\n",
      "026     0.0490     0.0133\n",
      "027     0.0495     0.0134\n",
      "028     0.0500     0.0135\n",
      "029     0.0502     0.0136\n",
      "030     0.0503     0.0136\n",
      "031     0.0500     0.0135\n",
      "032     0.0495     0.0134\n",
      "033     0.0488     0.0132\n",
      "034     0.0468     0.0126\n",
      "035     0.0458     0.0124\n",
      "036     0.0444     0.0120\n",
      "037     0.0430     0.0116\n",
      "038     0.0416     0.0112\n",
      "039     0.0403     0.0108\n",
      "040     0.0390     0.0104\n",
      "041     0.0378     0.0101\n",
      "042     0.0377     0.0100\n",
      "043     0.0352     0.0094\n",
      "044     0.0341     0.0090\n",
      "045     0.0331     0.0087\n",
      "046     0.0322     0.0085\n",
      "047     0.0313     0.0082\n",
      "048     0.0305     0.0080\n",
      "049     0.0298     0.0078\n",
      "050     0.0291     0.0076\n",
      "051     0.0284     0.0074\n",
      "052     0.0277     0.0072\n",
      "053     0.0271     0.0070\n",
      "054     0.0265     0.0068\n",
      "055     0.0259     0.0067\n",
      "056     0.0253     0.0065\n",
      "057     0.0248     0.0064\n",
      "058     0.0243     0.0062\n",
      "059     0.0239     0.0061\n",
      "060     0.0235     0.0060\n",
      "061     0.0231     0.0059\n",
      "062     0.0227     0.0058\n",
      "063     0.0224     0.0057\n",
      "064     0.0221     0.0056\n",
      "065     0.0218     0.0055\n",
      "066     0.0216     0.0054\n",
      "067     0.0214     0.0054\n",
      "068     0.0212     0.0053\n",
      "069     0.0210     0.0053\n",
      "070     0.0208     0.0052\n",
      "071     0.0207     0.0052\n",
      "072     0.0328     0.0082\n",
      "073     0.0239     0.0059\n",
      "074     0.0217     0.0054\n",
      "075     0.0207     0.0051\n",
      "076     0.0201     0.0050\n",
      "\u001b[1m\u001b[32mGraphEM: job.run_solver() >>> job.G created and saved to: ./testcases/PAGES2k_HadCRUT/recon/G.pkl\u001b[0m\n",
      "\u001b[1m\u001b[32mGraphEM: job.run_solver() >>> job.recon created\u001b[0m\n",
      "CPU times: user 1d 5h 1min 54s, sys: 1h 51min 56s, total: 1d 6h 53min 50s\n",
      "Wall time: 4h 38min 47s\n"
     ]
    }
   ],
   "source": [
    "%%time\n",
    "\n",
    "save_path = './testcases/PAGES2k_HadCRUT/recon/G.pkl'\n",
    "job.run_solver(save_path=save_path, verbose=True)"
   ]
  },
  {
   "cell_type": "code",
   "execution_count": 14,
   "metadata": {},
   "outputs": [
    {
     "data": {
      "text/plain": [
       "(501, 36, 72)"
      ]
     },
     "execution_count": 14,
     "metadata": {},
     "output_type": "execute_result"
    }
   ],
   "source": [
    "np.shape(job.recon)"
   ]
  },
  {
   "cell_type": "code",
   "execution_count": 15,
   "metadata": {},
   "outputs": [
    {
     "name": "stdout",
     "output_type": "stream",
     "text": [
      "\u001b[1m\u001b[36mLMRt: job.save_recon() >>> Reconstruction saved to: ./testcases/PAGES2k_HadCRUT/recon/recon.nc\u001b[0m\n"
     ]
    }
   ],
   "source": [
    "job.save_recon(f'./testcases/PAGES2k_HadCRUT/recon/recon.nc', verbose=True)"
   ]
  },
  {
   "cell_type": "markdown",
   "metadata": {},
   "source": [
    "## Top-level workflow"
   ]
  },
  {
   "cell_type": "code",
   "execution_count": 2,
   "metadata": {},
   "outputs": [
    {
     "name": "stdout",
     "output_type": "stream",
     "text": [
      "\u001b[1m\u001b[36mGraphEM: job.load_configs() >>> loading reconstruction configurations from: ./testcases/PAGES2k_HadCRUT/configs.yml\u001b[0m\n",
      "\u001b[1m\u001b[32mGraphEM: job.load_configs() >>> job.configs created\u001b[0m\n",
      "\u001b[1m\u001b[36mGraphEM: job.load_configs() >>> job.configs[\"job_dirpath\"] = /Users/fzhu/Github/GraphEM/docsrc/tutorial/testcases/PAGES2k_HadCRUT/recon\u001b[0m\n",
      "\u001b[1m\u001b[32mGraphEM: job.load_configs() >>> /Users/fzhu/Github/GraphEM/docsrc/tutorial/testcases/PAGES2k_HadCRUT/recon created\u001b[0m\n",
      "{'anom_period': [1951, 1980],\n",
      " 'calib_period': [1970, 2000],\n",
      " 'job_dirpath': '/Users/fzhu/Github/GraphEM/docsrc/tutorial/testcases/PAGES2k_HadCRUT/recon',\n",
      " 'job_id': 'LMRt_quickstart',\n",
      " 'obs_path': {'tas': './data/obs/HadCRUT.5.0.1.0.analysis.anomalies.ensemble_mean.nc'},\n",
      " 'obs_varname': {'lat': 'latitude', 'lon': 'longitude', 'tas': 'tas_mean'},\n",
      " 'proxydb_path': './data/proxy/pages2k_dataset.pkl',\n",
      " 'ptype_list': ['coral.d18O',\n",
      "                'coral.SrCa',\n",
      "                'coral.calc',\n",
      "                'tree.TRW',\n",
      "                'tree.MXD'],\n",
      " 'recon_period': [1500, 2000]}\n",
      "\u001b[1m\u001b[36mLMRt: job.load_configs() >>> job.configs[\"job_dirpath\"] = /Users/fzhu/Github/GraphEM/docsrc/tutorial/testcases/PAGES2k_HadCRUT/recon\u001b[0m\n",
      "\u001b[1m\u001b[32mLMRt: job.load_configs() >>> /Users/fzhu/Github/GraphEM/docsrc/tutorial/testcases/PAGES2k_HadCRUT/recon created\u001b[0m\n",
      "\u001b[1m\u001b[36mGraphEM: job.load_proxydb() >>> job.configs[\"proxydb_path\"] = /Users/fzhu/Github/GraphEM/docsrc/tutorial/testcases/PAGES2k_HadCRUT/data/proxy/pages2k_dataset.pkl\u001b[0m\n",
      "\u001b[1m\u001b[32mGraphEM: job.load_proxydb() >>> 692 records loaded\u001b[0m\n",
      "\u001b[1m\u001b[32mGraphEM: job.load_proxydb() >>> job.proxydb created\u001b[0m\n",
      "\u001b[1m\u001b[36mGraphEM: job.seasonalize_proxydb() >>> job.configs[\"ptype_season\"] = {'coral.d18O': [1, 2, 3, 4, 5, 6, 7, 8, 9, 10, 11, 12], 'coral.SrCa': [1, 2, 3, 4, 5, 6, 7, 8, 9, 10, 11, 12], 'coral.calc': [1, 2, 3, 4, 5, 6, 7, 8, 9, 10, 11, 12], 'tree.TRW': [1, 2, 3, 4, 5, 6, 7, 8, 9, 10, 11, 12], 'tree.MXD': [1, 2, 3, 4, 5, 6, 7, 8, 9, 10, 11, 12]}\u001b[0m\n",
      "\u001b[1m\u001b[36mGraphEM: job.seasonalize_proxydb() >>> seasonalizing proxy records according to: {'coral.d18O': [1, 2, 3, 4, 5, 6, 7, 8, 9, 10, 11, 12], 'coral.SrCa': [1, 2, 3, 4, 5, 6, 7, 8, 9, 10, 11, 12], 'coral.calc': [1, 2, 3, 4, 5, 6, 7, 8, 9, 10, 11, 12], 'tree.TRW': [1, 2, 3, 4, 5, 6, 7, 8, 9, 10, 11, 12], 'tree.MXD': [1, 2, 3, 4, 5, 6, 7, 8, 9, 10, 11, 12]}\u001b[0m\n",
      "\u001b[1m\u001b[32mGraphEM: job.seasonalize_proxydb() >>> 692 records remaining\u001b[0m\n",
      "\u001b[1m\u001b[32mGraphEM: job.seasonalize_proxydb() >>> job.proxydb updated\u001b[0m\n",
      "\u001b[1m\u001b[36mGraphEM: job.load_obs() >>> loading instrumental observation fields from: {'tas': '/Users/fzhu/Github/GraphEM/docsrc/tutorial/testcases/PAGES2k_HadCRUT/data/obs/HadCRUT.5.0.1.0.analysis.anomalies.ensemble_mean.nc'}\u001b[0m\n",
      "\u001b[1m\u001b[32mGraphEM: job.load_obs() >>> job.obs created\u001b[0m\n",
      "\u001b[1m\u001b[36mGraphEM: job.seasonalize_obs() >>> job.configs[\"obs_season\"] = [1, 2, 3, 4, 5, 6, 7, 8, 9, 10, 11, 12]\u001b[0m\n",
      "\u001b[1m\u001b[30mGraphEM: job.seasonalize_obs() >>> seasonalized obs w/ season [1, 2, 3, 4, 5, 6, 7, 8, 9, 10, 11, 12]\u001b[0m\n",
      "Dataset Overview\n",
      "-----------------------\n",
      "\n",
      "     Name:  tas\n",
      "   Source:  /Users/fzhu/Github/GraphEM/docsrc/tutorial/testcases/PAGES2k_HadCRUT/data/obs/HadCRUT.5.0.1.0.analysis.anomalies.ensemble_mean.nc\n",
      "    Shape:  time:171, lat:36, lon:72\n",
      "\u001b[1m\u001b[32mGraphEM: job.seasonalize_obs() >>> job.obs updated\u001b[0m"
     ]
    },
    {
     "name": "stderr",
     "output_type": "stream",
     "text": [
      "/Users/fzhu/Github/LMRt/LMRt/utils.py:258: RuntimeWarning: Mean of empty slice\n",
      "  tmp = np.nanmean(var[inds, ...], axis=0)\n",
      "100%|██████████| 72/72 [00:00<00:00, 22026.98it/s]\n"
     ]
    },
    {
     "name": "stdout",
     "output_type": "stream",
     "text": [
      "\n",
      "\u001b[1m\u001b[32mGraphEM: job.prep_data() >>> job.recon_time created\u001b[0m\n",
      "\u001b[1m\u001b[32mGraphEM: job.prep_data() >>> job.calib_time created\u001b[0m\n",
      "\u001b[1m\u001b[32mGraphEM: job.prep_data() >>> job.calib_idx created\u001b[0m\n",
      "\u001b[1m\u001b[32mGraphEM: job.prep_data() >>> job.temp created\u001b[0m\n",
      "\u001b[1m\u001b[36mGraphEM: job.prep_data() >>> Preparing proxy and lonlat\u001b[0m\n",
      "\u001b[1m\u001b[32mGraphEM: job.prep_data() >>> job.df_proxy created\u001b[0m\n",
      "\u001b[1m\u001b[32mGraphEM: job.prep_data() >>> job.proxy created\u001b[0m\n",
      "\u001b[1m\u001b[32mGraphEM: job.prep_data() >>> job.lonlat created\u001b[0m\n",
      "\u001b[1m\u001b[36mLMRt: job.save_job() >>> Prepration data saved to: /Users/fzhu/Github/GraphEM/docsrc/tutorial/testcases/PAGES2k_HadCRUT/recon/job.pkl\u001b[0m\n",
      "\u001b[1m\u001b[36mLMRt: job.save_job() >>> job.configs[\"prep_savepath\"] = /Users/fzhu/Github/GraphEM/docsrc/tutorial/testcases/PAGES2k_HadCRUT/recon/job.pkl\u001b[0m\n",
      "\u001b[1m\u001b[36mLMRt: job.run_cfg() >>> G will be saved to: /Users/fzhu/Github/GraphEM/docsrc/tutorial/testcases/PAGES2k_HadCRUT/recon/G.pkl\u001b[0m\n",
      "\u001b[1m\u001b[32mGraphEM: job.run_solver() >>> job.G created with the existing result at: /Users/fzhu/Github/GraphEM/docsrc/tutorial/testcases/PAGES2k_HadCRUT/recon/G.pkl\u001b[0m\n",
      "\u001b[1m\u001b[32mGraphEM: job.run_solver() >>> job.recon created\u001b[0m\n",
      "\u001b[1m\u001b[36mLMRt: job.run_cfg() >>> recon. will be saved to: /Users/fzhu/Github/GraphEM/docsrc/tutorial/testcases/PAGES2k_HadCRUT/recon/recon.nc\u001b[0m\n",
      "\u001b[1m\u001b[36mLMRt: job.save_recon() >>> Reconstruction saved to: /Users/fzhu/Github/GraphEM/docsrc/tutorial/testcases/PAGES2k_HadCRUT/recon/recon.nc\u001b[0m\n"
     ]
    }
   ],
   "source": [
    "job = GraphEM.ReconJob()\n",
    "job.run_cfg('./testcases/PAGES2k_HadCRUT/configs.yml', verbose=True)"
   ]
  },
  {
   "cell_type": "markdown",
   "metadata": {},
   "source": [
    "## Validation"
   ]
  },
  {
   "cell_type": "code",
   "execution_count": 32,
   "metadata": {},
   "outputs": [
    {
     "name": "stdout",
     "output_type": "stream",
     "text": [
      "<xarray.Dataset>\n",
      "Dimensions:  (lat: 36, lon: 72, year: 501)\n",
      "Coordinates:\n",
      "  * year     (year) int64 1500 1501 1502 1503 1504 ... 1996 1997 1998 1999 2000\n",
      "  * lat      (lat) float64 -87.5 -82.5 -77.5 -72.5 -67.5 ... 72.5 77.5 82.5 87.5\n",
      "  * lon      (lon) float64 2.5 7.5 12.5 17.5 22.5 ... 342.5 347.5 352.5 357.5\n",
      "Data variables:\n",
      "    recon    (year, lat, lon) float64 ...\n"
     ]
    }
   ],
   "source": [
    "with xr.open_dataset('./testcases/PAGES2k_HadCRUT/recon/recon.nc') as ds:\n",
    "    print(ds)\n",
    "    recon = ds['recon']\n",
    "    lat = ds['lat']\n",
    "    lon = ds['lon']\n",
    "    year = ds['year']\n",
    "    \n",
    "gm, nhm, shm = LMRt.utils.global_hemispheric_means(recon.values, lat.values)\n",
    "ts_recon = LMRt.Series(time=year, value=gm)"
   ]
  },
  {
   "cell_type": "code",
   "execution_count": 33,
   "metadata": {},
   "outputs": [
    {
     "name": "stdout",
     "output_type": "stream",
     "text": [
      "(171,)\n",
      "(171, 36, 72)\n",
      "(36,)\n"
     ]
    }
   ],
   "source": [
    "tas = job.obs.fields['tas']\n",
    "gm_hadcrut, nhm_hadcrut, shm_hadcrut = LMRt.utils.global_hemispheric_means(tas.value, tas.lat)\n",
    "print(np.shape(tas.time))\n",
    "print(np.shape(tas.value))\n",
    "print(np.shape(tas.lat))\n",
    "ts_hadcrut = LMRt.Series(\n",
    "    time=tas.time,\n",
    "    value=gm_hadcrut,\n",
    "    label='HadCRUT',\n",
    ")"
   ]
  },
  {
   "cell_type": "code",
   "execution_count": 34,
   "metadata": {},
   "outputs": [],
   "source": [
    "lmr_time, lmr_gmst = pd.read_pickle('https://github.com/LinkedEarth/paleoHackathon/raw/main/data/lmr_gmst.pkl')"
   ]
  },
  {
   "cell_type": "code",
   "execution_count": 35,
   "metadata": {},
   "outputs": [
    {
     "name": "stdout",
     "output_type": "stream",
     "text": [
      "(2001,)\n",
      "(2001, 20, 100)\n"
     ]
    }
   ],
   "source": [
    "print(np.shape(lmr_time))\n",
    "print(np.shape(lmr_gmst))\n",
    "lmr_gmst_mean = np.average(np.average(lmr_gmst, axis=-1), axis=-1)\n",
    "ts_lmr = LMRt.Series(time=lmr_time, value=lmr_gmst_mean, label='LMRv2.1')"
   ]
  },
  {
   "cell_type": "code",
   "execution_count": 44,
   "metadata": {},
   "outputs": [
    {
     "data": {
      "image/png": "[encoded data removed]",
      "text/plain": [
       "<Figure size 1000x400 with 1 Axes>"
      ]
     },
     "metadata": {},
     "output_type": "display_data"
    }
   ],
   "source": [
    "# plot and validate the NINO3.4\n",
    "fig, ax = ts_recon.plot(mute=True, label='recon.')\n",
    "ts_lmr.plot(ax=ax)\n",
    "ax.set_xlim(1500, 2000)\n",
    "ax.set_ylim(-1, 2)\n",
    "ax.set_title('GMST')\n",
    "ts_hadcrut.plot(ax=ax)\n",
    "LMRt.showfig(fig)"
   ]
  },
  {
   "cell_type": "code",
   "execution_count": 54,
   "metadata": {},
   "outputs": [
    {
     "name": "stdout",
     "output_type": "stream",
     "text": [
      "  correlation    p-value  signif. (α: 0.05)\n",
      "-------------  ---------  -------------------\n",
      "   -0.0116929       0.97  False\n",
      "\n"
     ]
    }
   ],
   "source": [
    "corr = ts_lmr.slice([1500, 1800]).correlation(ts_recon.slice([1500, 1800]))\n",
    "print(corr)"
   ]
  },
  {
   "cell_type": "code",
   "execution_count": null,
   "metadata": {},
   "outputs": [],
   "source": []
  }
 ],
 "metadata": {
  "kernelspec": {
   "display_name": "Python 3",
   "language": "python",
   "name": "python3"
  },
  "language_info": {
   "codemirror_mode": {
    "name": "ipython",
    "version": 3
   },
   "file_extension": ".py",
   "mimetype": "text/x-python",
   "name": "python",
   "nbconvert_exporter": "python",
   "pygments_lexer": "ipython3",
   "version": "3.8.8"
  }
 },
 "nbformat": 4,
 "nbformat_minor": 4
}
