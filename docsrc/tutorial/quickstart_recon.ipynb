{
 "cells": [
  {
   "cell_type": "markdown",
   "metadata": {},
   "source": [
    "# Reconstruction using GraphEM"
   ]
  },
  {
   "cell_type": "markdown",
   "metadata": {},
   "source": [
    "**Expected time to run through: 10 mins**\n",
    "\n",
    "This tutorial demonstrates how to get a reconstruction using GraphEM, leveraging HadCRUT4 and PAGES2k."
   ]
  },
  {
   "cell_type": "code",
   "execution_count": 28,
   "metadata": {},
   "outputs": [
    {
     "name": "stdout",
     "output_type": "stream",
     "text": [
      "The autoreload extension is already loaded. To reload it, use:\n",
      "  %reload_ext autoreload\n"
     ]
    }
   ],
   "source": [
    "%load_ext autoreload\n",
    "%autoreload 2\n",
    "\n",
    "import LMRt\n",
    "import GraphEM\n",
    "import os\n",
    "import numpy as np\n",
    "import pandas as pd\n",
    "import xarray as xr\n",
    "import matplotlib.pyplot as  plt"
   ]
  },
  {
   "cell_type": "code",
   "execution_count": 2,
   "metadata": {},
   "outputs": [],
   "source": [
    "job = GraphEM.ReconJob()"
   ]
  },
  {
   "cell_type": "code",
   "execution_count": 3,
   "metadata": {},
   "outputs": [
    {
     "name": "stdout",
     "output_type": "stream",
     "text": [
      "\u001b[1m\u001b[36mGraphEM: job.load_configs() >>> loading reconstruction configurations from: ./testcases/PAGES2k_HadCRUT/configs.yml\u001b[0m\n",
      "\u001b[1m\u001b[32mGraphEM: job.load_configs() >>> job.configs created\u001b[0m\n",
      "\u001b[1m\u001b[36mGraphEM: job.load_configs() >>> job.configs[\"job_dirpath\"] = /Users/fzhu/Github/GraphEM/docsrc/tutorial/testcases/PAGES2k_HadCRUT/recon\u001b[0m\n",
      "\u001b[1m\u001b[32mGraphEM: job.load_configs() >>> /Users/fzhu/Github/GraphEM/docsrc/tutorial/testcases/PAGES2k_HadCRUT/recon created\u001b[0m\n",
      "{'anom_period': [1951, 1980],\n",
      " 'job_dirpath': '/Users/fzhu/Github/GraphEM/docsrc/tutorial/testcases/PAGES2k_HadCRUT/recon',\n",
      " 'job_id': 'LMRt_quickstart',\n",
      " 'obs_path': {'tas': './data/obs/HadCRUT.5.0.1.0.analysis.anomalies.ensemble_mean.nc'},\n",
      " 'obs_varname': {'tas': 'tas_mean'},\n",
      " 'proxydb_path': './data/proxy/pages2k_dataset.pkl',\n",
      " 'ptype_list': ['coral.d18O',\n",
      "                'coral.SrCa',\n",
      "                'coral.calc',\n",
      "                'tree.TRW',\n",
      "                'tree.MXD'],\n",
      " 'recon_period': [0, 2000]}\n"
     ]
    }
   ],
   "source": [
    "job.load_configs('./testcases/PAGES2k_HadCRUT/configs.yml', verbose=True)"
   ]
  },
  {
   "cell_type": "code",
   "execution_count": 4,
   "metadata": {},
   "outputs": [
    {
     "name": "stdout",
     "output_type": "stream",
     "text": [
      "\u001b[1m\u001b[36mGraphEM: job.load_proxydb() >>> job.configs[\"proxydb_path\"] = /Users/fzhu/Github/GraphEM/docsrc/tutorial/testcases/PAGES2k_HadCRUT/data/proxy/pages2k_dataset.pkl\u001b[0m\n",
      "\u001b[1m\u001b[32mGraphEM: job.load_proxydb() >>> 692 records loaded\u001b[0m\n",
      "\u001b[1m\u001b[32mGraphEM: job.load_proxydb() >>> job.proxydb created\u001b[0m\n"
     ]
    }
   ],
   "source": [
    "job.load_proxydb(verbose=True)"
   ]
  },
  {
   "cell_type": "code",
   "execution_count": 5,
   "metadata": {},
   "outputs": [
    {
     "name": "stdout",
     "output_type": "stream",
     "text": [
      "\u001b[1m\u001b[36mGraphEM: job.filter_proxydb() >>> job.configs[\"ptype_list\"] = ['coral.d18O']\u001b[0m\n",
      "\u001b[1m\u001b[36mGraphEM: job.filter_proxydb() >>> filtering proxy records according to: ['coral.d18O']\u001b[0m\n",
      "\u001b[1m\u001b[32mGraphEM: job.filter_proxydb() >>> 62 records remaining\u001b[0m\n"
     ]
    }
   ],
   "source": [
    "job.filter_proxydb(ptype_list=['coral.d18O'], verbose=True)"
   ]
  },
  {
   "cell_type": "code",
   "execution_count": 6,
   "metadata": {},
   "outputs": [
    {
     "name": "stdout",
     "output_type": "stream",
     "text": [
      "\u001b[1m\u001b[36mGraphEM: job.seasonalize_proxydb() >>> job.configs[\"ptype_season\"] = {'coral.d18O': [1, 2, 3, 4, 5, 6, 7, 8, 9, 10, 11, 12]}\u001b[0m\n",
      "\u001b[1m\u001b[36mGraphEM: job.seasonalize_proxydb() >>> seasonalizing proxy records according to: {'coral.d18O': [1, 2, 3, 4, 5, 6, 7, 8, 9, 10, 11, 12]}\u001b[0m\n",
      "\u001b[1m\u001b[32mGraphEM: job.seasonalize_proxydb() >>> 62 records remaining\u001b[0m\n",
      "\u001b[1m\u001b[32mGraphEM: job.seasonalize_proxydb() >>> job.proxydb updated\u001b[0m\n"
     ]
    }
   ],
   "source": [
    "# ptype_season = {}\n",
    "# for k, v in job.proxydb.type_dict.items():\n",
    "#     ptype_season[k] = list(range(1, 13)) # annual\n",
    "    \n",
    "# job.seasonalize_proxydb(ptype_season, verbose=True)\n",
    "job.seasonalize_proxydb(verbose=True)"
   ]
  },
  {
   "cell_type": "code",
   "execution_count": 7,
   "metadata": {},
   "outputs": [
    {
     "name": "stdout",
     "output_type": "stream",
     "text": [
      "\u001b[1m\u001b[36mGraphEM: job.load_obs() >>> loading instrumental observation fields from: {'tas': '/Users/fzhu/Github/GraphEM/docsrc/tutorial/testcases/PAGES2k_HadCRUT/data/obs/HadCRUT.5.0.1.0.analysis.anomalies.ensemble_mean.nc'}\u001b[0m\n",
      "\u001b[1m\u001b[32mGraphEM: job.load_obs() >>> job.obs created\u001b[0m\n"
     ]
    }
   ],
   "source": [
    "job.load_obs(varname_dict={'lat': 'latitude', 'lon': 'longitude', 'tas': 'tas_mean'}, verbose=True)"
   ]
  },
  {
   "cell_type": "code",
   "execution_count": 8,
   "metadata": {},
   "outputs": [
    {
     "name": "stdout",
     "output_type": "stream",
     "text": [
      "\u001b[1m\u001b[36mGraphEM: job.seasonalize_obs() >>> job.configs[\"obs_season\"] = [1, 2, 3, 4, 5, 6, 7, 8, 9, 10, 11, 12]\u001b[0m\n",
      "\u001b[1m\u001b[30mGraphEM: job.seasonalize_obs() >>> seasonalized obs w/ season [1, 2, 3, 4, 5, 6, 7, 8, 9, 10, 11, 12]\u001b[0m\n",
      "Dataset Overview\n",
      "-----------------------\n",
      "\n",
      "     Name:  tas\n",
      "   Source:  /Users/fzhu/Github/GraphEM/docsrc/tutorial/testcases/PAGES2k_HadCRUT/data/obs/HadCRUT.5.0.1.0.analysis.anomalies.ensemble_mean.nc\n",
      "    Shape:  time:171, lat:36, lon:72\n",
      "\u001b[1m\u001b[32mGraphEM: job.seasonalize_obs() >>> job.obs updated\u001b[0m\n"
     ]
    },
    {
     "name": "stderr",
     "output_type": "stream",
     "text": [
      "/Users/fzhu/Github/LMRt/LMRt/utils.py:258: RuntimeWarning: Mean of empty slice\n",
      "  tmp = np.nanmean(var[inds, ...], axis=0)\n"
     ]
    }
   ],
   "source": [
    "job.seasonalize_obs(verbose=True)"
   ]
  },
  {
   "cell_type": "code",
   "execution_count": 9,
   "metadata": {},
   "outputs": [
    {
     "name": "stdout",
     "output_type": "stream",
     "text": [
      "[1850 1851 1852 1853 1854 1855 1856 1857 1858 1859 1860 1861 1862 1863\n",
      " 1864 1865 1866 1867 1868 1869 1870 1871 1872 1873 1874 1875 1876 1877\n",
      " 1878 1879 1880 1881 1882 1883 1884 1885 1886 1887 1888 1889 1890 1891\n",
      " 1892 1893 1894 1895 1896 1897 1898 1899 1900 1901 1902 1903 1904 1905\n",
      " 1906 1907 1908 1909 1910 1911 1912 1913 1914 1915 1916 1917 1918 1919\n",
      " 1920 1921 1922 1923 1924 1925 1926 1927 1928 1929 1930 1931 1932 1933\n",
      " 1934 1935 1936 1937 1938 1939 1940 1941 1942 1943 1944 1945 1946 1947\n",
      " 1948 1949 1950 1951 1952 1953 1954 1955 1956 1957 1958 1959 1960 1961\n",
      " 1962 1963 1964 1965 1966 1967 1968 1969 1970 1971 1972 1973 1974 1975\n",
      " 1976 1977 1978 1979 1980 1981 1982 1983 1984 1985 1986 1987 1988 1989\n",
      " 1990 1991 1992 1993 1994 1995 1996 1997 1998 1999 2000 2001 2002 2003\n",
      " 2004 2005 2006 2007 2008 2009 2010 2011 2012 2013 2014 2015 2016 2017\n",
      " 2018 2019 2020]\n"
     ]
    }
   ],
   "source": [
    "tas = job.obs.fields['tas']\n",
    "print(tas.time)"
   ]
  },
  {
   "cell_type": "code",
   "execution_count": 25,
   "metadata": {},
   "outputs": [],
   "source": [
    "recon_time = np.arange(1000, 2001)\n",
    "nt = np.size(recon_time)\n",
    "idx = np.arange(nt)\n",
    "calib = idx[-100:]\n",
    "nt_tas, nlat, nlon = np.shape(tas.value)"
   ]
  },
  {
   "cell_type": "code",
   "execution_count": 18,
   "metadata": {},
   "outputs": [
    {
     "name": "stdout",
     "output_type": "stream",
     "text": [
      "171 2592\n",
      "151\n",
      "(1001, 2592)\n"
     ]
    }
   ],
   "source": [
    "tas_value = job.obs.fields['tas'].value.reshape(np.shape(tas.value)[0], -1)\n",
    "nt_tas, npos_tas =  np.shape(tas_value)\n",
    "print(nt_tas, npos_tas)\n",
    "\n",
    "temp = np.ndarray((nt, npos_tas))\n",
    "idx_tas = np.array([list(recon_time).index(yr) for yr in tas.time if yr <= recon_time[-1]])\n",
    "temp[idx_tas] = tas_value[tas.time<=recon_time[-1]]\n",
    "print(np.size(idx_tas))\n",
    "print(np.shape(temp))"
   ]
  },
  {
   "cell_type": "code",
   "execution_count": 19,
   "metadata": {},
   "outputs": [
    {
     "data": {
      "text/html": [
       "<div>\n",
       "<style scoped>\n",
       "    .dataframe tbody tr th:only-of-type {\n",
       "        vertical-align: middle;\n",
       "    }\n",
       "\n",
       "    .dataframe tbody tr th {\n",
       "        vertical-align: top;\n",
       "    }\n",
       "\n",
       "    .dataframe thead th {\n",
       "        text-align: right;\n",
       "    }\n",
       "</style>\n",
       "<table border=\"1\" class=\"dataframe\">\n",
       "  <thead>\n",
       "    <tr style=\"text-align: right;\">\n",
       "      <th></th>\n",
       "      <th>Ocn_075</th>\n",
       "      <th>Ocn_078</th>\n",
       "      <th>Ocn_091</th>\n",
       "      <th>Ocn_086</th>\n",
       "      <th>Ocn_076</th>\n",
       "      <th>Ocn_099</th>\n",
       "      <th>Ocn_178</th>\n",
       "      <th>Ocn_177</th>\n",
       "      <th>Ocn_080</th>\n",
       "      <th>Ocn_108</th>\n",
       "      <th>...</th>\n",
       "      <th>Ocn_146</th>\n",
       "      <th>Ocn_181</th>\n",
       "      <th>Ocn_162</th>\n",
       "      <th>Ocn_125</th>\n",
       "      <th>Ocn_090</th>\n",
       "      <th>Ocn_119</th>\n",
       "      <th>Ocn_097</th>\n",
       "      <th>Ocn_087</th>\n",
       "      <th>Ocn_169</th>\n",
       "      <th>Ocn_071</th>\n",
       "    </tr>\n",
       "  </thead>\n",
       "  <tbody>\n",
       "    <tr>\n",
       "      <th>1000.0</th>\n",
       "      <td>NaN</td>\n",
       "      <td>NaN</td>\n",
       "      <td>NaN</td>\n",
       "      <td>NaN</td>\n",
       "      <td>NaN</td>\n",
       "      <td>NaN</td>\n",
       "      <td>NaN</td>\n",
       "      <td>NaN</td>\n",
       "      <td>NaN</td>\n",
       "      <td>NaN</td>\n",
       "      <td>...</td>\n",
       "      <td>NaN</td>\n",
       "      <td>NaN</td>\n",
       "      <td>NaN</td>\n",
       "      <td>NaN</td>\n",
       "      <td>NaN</td>\n",
       "      <td>NaN</td>\n",
       "      <td>NaN</td>\n",
       "      <td>NaN</td>\n",
       "      <td>NaN</td>\n",
       "      <td>NaN</td>\n",
       "    </tr>\n",
       "    <tr>\n",
       "      <th>1001.0</th>\n",
       "      <td>NaN</td>\n",
       "      <td>NaN</td>\n",
       "      <td>NaN</td>\n",
       "      <td>NaN</td>\n",
       "      <td>NaN</td>\n",
       "      <td>NaN</td>\n",
       "      <td>NaN</td>\n",
       "      <td>NaN</td>\n",
       "      <td>NaN</td>\n",
       "      <td>NaN</td>\n",
       "      <td>...</td>\n",
       "      <td>NaN</td>\n",
       "      <td>NaN</td>\n",
       "      <td>NaN</td>\n",
       "      <td>NaN</td>\n",
       "      <td>NaN</td>\n",
       "      <td>NaN</td>\n",
       "      <td>NaN</td>\n",
       "      <td>NaN</td>\n",
       "      <td>NaN</td>\n",
       "      <td>NaN</td>\n",
       "    </tr>\n",
       "    <tr>\n",
       "      <th>1002.0</th>\n",
       "      <td>NaN</td>\n",
       "      <td>NaN</td>\n",
       "      <td>NaN</td>\n",
       "      <td>NaN</td>\n",
       "      <td>NaN</td>\n",
       "      <td>NaN</td>\n",
       "      <td>NaN</td>\n",
       "      <td>NaN</td>\n",
       "      <td>NaN</td>\n",
       "      <td>NaN</td>\n",
       "      <td>...</td>\n",
       "      <td>NaN</td>\n",
       "      <td>NaN</td>\n",
       "      <td>NaN</td>\n",
       "      <td>NaN</td>\n",
       "      <td>NaN</td>\n",
       "      <td>NaN</td>\n",
       "      <td>NaN</td>\n",
       "      <td>NaN</td>\n",
       "      <td>NaN</td>\n",
       "      <td>NaN</td>\n",
       "    </tr>\n",
       "    <tr>\n",
       "      <th>1003.0</th>\n",
       "      <td>NaN</td>\n",
       "      <td>NaN</td>\n",
       "      <td>NaN</td>\n",
       "      <td>NaN</td>\n",
       "      <td>NaN</td>\n",
       "      <td>NaN</td>\n",
       "      <td>NaN</td>\n",
       "      <td>NaN</td>\n",
       "      <td>NaN</td>\n",
       "      <td>NaN</td>\n",
       "      <td>...</td>\n",
       "      <td>NaN</td>\n",
       "      <td>NaN</td>\n",
       "      <td>NaN</td>\n",
       "      <td>NaN</td>\n",
       "      <td>NaN</td>\n",
       "      <td>NaN</td>\n",
       "      <td>NaN</td>\n",
       "      <td>NaN</td>\n",
       "      <td>NaN</td>\n",
       "      <td>NaN</td>\n",
       "    </tr>\n",
       "    <tr>\n",
       "      <th>1004.0</th>\n",
       "      <td>NaN</td>\n",
       "      <td>NaN</td>\n",
       "      <td>NaN</td>\n",
       "      <td>NaN</td>\n",
       "      <td>NaN</td>\n",
       "      <td>NaN</td>\n",
       "      <td>NaN</td>\n",
       "      <td>NaN</td>\n",
       "      <td>NaN</td>\n",
       "      <td>NaN</td>\n",
       "      <td>...</td>\n",
       "      <td>NaN</td>\n",
       "      <td>NaN</td>\n",
       "      <td>NaN</td>\n",
       "      <td>NaN</td>\n",
       "      <td>NaN</td>\n",
       "      <td>NaN</td>\n",
       "      <td>NaN</td>\n",
       "      <td>NaN</td>\n",
       "      <td>NaN</td>\n",
       "      <td>NaN</td>\n",
       "    </tr>\n",
       "    <tr>\n",
       "      <th>...</th>\n",
       "      <td>...</td>\n",
       "      <td>...</td>\n",
       "      <td>...</td>\n",
       "      <td>...</td>\n",
       "      <td>...</td>\n",
       "      <td>...</td>\n",
       "      <td>...</td>\n",
       "      <td>...</td>\n",
       "      <td>...</td>\n",
       "      <td>...</td>\n",
       "      <td>...</td>\n",
       "      <td>...</td>\n",
       "      <td>...</td>\n",
       "      <td>...</td>\n",
       "      <td>...</td>\n",
       "      <td>...</td>\n",
       "      <td>...</td>\n",
       "      <td>...</td>\n",
       "      <td>...</td>\n",
       "      <td>...</td>\n",
       "      <td>...</td>\n",
       "    </tr>\n",
       "    <tr>\n",
       "      <th>1996.0</th>\n",
       "      <td>NaN</td>\n",
       "      <td>NaN</td>\n",
       "      <td>-5.32</td>\n",
       "      <td>NaN</td>\n",
       "      <td>-5.016917</td>\n",
       "      <td>NaN</td>\n",
       "      <td>-4.70125</td>\n",
       "      <td>NaN</td>\n",
       "      <td>NaN</td>\n",
       "      <td>NaN</td>\n",
       "      <td>...</td>\n",
       "      <td>-3.093333</td>\n",
       "      <td>NaN</td>\n",
       "      <td>NaN</td>\n",
       "      <td>-4.7875</td>\n",
       "      <td>NaN</td>\n",
       "      <td>NaN</td>\n",
       "      <td>NaN</td>\n",
       "      <td>NaN</td>\n",
       "      <td>NaN</td>\n",
       "      <td>-4.114561</td>\n",
       "    </tr>\n",
       "    <tr>\n",
       "      <th>1997.0</th>\n",
       "      <td>NaN</td>\n",
       "      <td>NaN</td>\n",
       "      <td>NaN</td>\n",
       "      <td>NaN</td>\n",
       "      <td>-5.024917</td>\n",
       "      <td>NaN</td>\n",
       "      <td>-4.53625</td>\n",
       "      <td>NaN</td>\n",
       "      <td>NaN</td>\n",
       "      <td>NaN</td>\n",
       "      <td>...</td>\n",
       "      <td>-3.173333</td>\n",
       "      <td>NaN</td>\n",
       "      <td>NaN</td>\n",
       "      <td>NaN</td>\n",
       "      <td>NaN</td>\n",
       "      <td>NaN</td>\n",
       "      <td>NaN</td>\n",
       "      <td>NaN</td>\n",
       "      <td>NaN</td>\n",
       "      <td>-4.231963</td>\n",
       "    </tr>\n",
       "    <tr>\n",
       "      <th>1998.0</th>\n",
       "      <td>NaN</td>\n",
       "      <td>NaN</td>\n",
       "      <td>NaN</td>\n",
       "      <td>NaN</td>\n",
       "      <td>-5.157250</td>\n",
       "      <td>NaN</td>\n",
       "      <td>-4.49750</td>\n",
       "      <td>NaN</td>\n",
       "      <td>NaN</td>\n",
       "      <td>NaN</td>\n",
       "      <td>...</td>\n",
       "      <td>-2.964167</td>\n",
       "      <td>NaN</td>\n",
       "      <td>NaN</td>\n",
       "      <td>NaN</td>\n",
       "      <td>NaN</td>\n",
       "      <td>NaN</td>\n",
       "      <td>NaN</td>\n",
       "      <td>NaN</td>\n",
       "      <td>NaN</td>\n",
       "      <td>-4.427678</td>\n",
       "    </tr>\n",
       "    <tr>\n",
       "      <th>1999.0</th>\n",
       "      <td>NaN</td>\n",
       "      <td>NaN</td>\n",
       "      <td>NaN</td>\n",
       "      <td>NaN</td>\n",
       "      <td>-5.048000</td>\n",
       "      <td>NaN</td>\n",
       "      <td>-4.85000</td>\n",
       "      <td>NaN</td>\n",
       "      <td>NaN</td>\n",
       "      <td>NaN</td>\n",
       "      <td>...</td>\n",
       "      <td>-2.984167</td>\n",
       "      <td>NaN</td>\n",
       "      <td>NaN</td>\n",
       "      <td>NaN</td>\n",
       "      <td>NaN</td>\n",
       "      <td>NaN</td>\n",
       "      <td>NaN</td>\n",
       "      <td>NaN</td>\n",
       "      <td>NaN</td>\n",
       "      <td>-4.081667</td>\n",
       "    </tr>\n",
       "    <tr>\n",
       "      <th>2000.0</th>\n",
       "      <td>NaN</td>\n",
       "      <td>NaN</td>\n",
       "      <td>NaN</td>\n",
       "      <td>NaN</td>\n",
       "      <td>-5.042917</td>\n",
       "      <td>NaN</td>\n",
       "      <td>NaN</td>\n",
       "      <td>NaN</td>\n",
       "      <td>NaN</td>\n",
       "      <td>NaN</td>\n",
       "      <td>...</td>\n",
       "      <td>-2.914167</td>\n",
       "      <td>NaN</td>\n",
       "      <td>NaN</td>\n",
       "      <td>NaN</td>\n",
       "      <td>NaN</td>\n",
       "      <td>NaN</td>\n",
       "      <td>NaN</td>\n",
       "      <td>NaN</td>\n",
       "      <td>NaN</td>\n",
       "      <td>NaN</td>\n",
       "    </tr>\n",
       "  </tbody>\n",
       "</table>\n",
       "<p>1001 rows × 62 columns</p>\n",
       "</div>"
      ],
      "text/plain": [
       "        Ocn_075  Ocn_078  Ocn_091  Ocn_086   Ocn_076  Ocn_099  Ocn_178  \\\n",
       "1000.0      NaN      NaN      NaN      NaN       NaN      NaN      NaN   \n",
       "1001.0      NaN      NaN      NaN      NaN       NaN      NaN      NaN   \n",
       "1002.0      NaN      NaN      NaN      NaN       NaN      NaN      NaN   \n",
       "1003.0      NaN      NaN      NaN      NaN       NaN      NaN      NaN   \n",
       "1004.0      NaN      NaN      NaN      NaN       NaN      NaN      NaN   \n",
       "...         ...      ...      ...      ...       ...      ...      ...   \n",
       "1996.0      NaN      NaN    -5.32      NaN -5.016917      NaN -4.70125   \n",
       "1997.0      NaN      NaN      NaN      NaN -5.024917      NaN -4.53625   \n",
       "1998.0      NaN      NaN      NaN      NaN -5.157250      NaN -4.49750   \n",
       "1999.0      NaN      NaN      NaN      NaN -5.048000      NaN -4.85000   \n",
       "2000.0      NaN      NaN      NaN      NaN -5.042917      NaN      NaN   \n",
       "\n",
       "        Ocn_177  Ocn_080  Ocn_108  ...   Ocn_146  Ocn_181  Ocn_162  Ocn_125  \\\n",
       "1000.0      NaN      NaN      NaN  ...       NaN      NaN      NaN      NaN   \n",
       "1001.0      NaN      NaN      NaN  ...       NaN      NaN      NaN      NaN   \n",
       "1002.0      NaN      NaN      NaN  ...       NaN      NaN      NaN      NaN   \n",
       "1003.0      NaN      NaN      NaN  ...       NaN      NaN      NaN      NaN   \n",
       "1004.0      NaN      NaN      NaN  ...       NaN      NaN      NaN      NaN   \n",
       "...         ...      ...      ...  ...       ...      ...      ...      ...   \n",
       "1996.0      NaN      NaN      NaN  ... -3.093333      NaN      NaN  -4.7875   \n",
       "1997.0      NaN      NaN      NaN  ... -3.173333      NaN      NaN      NaN   \n",
       "1998.0      NaN      NaN      NaN  ... -2.964167      NaN      NaN      NaN   \n",
       "1999.0      NaN      NaN      NaN  ... -2.984167      NaN      NaN      NaN   \n",
       "2000.0      NaN      NaN      NaN  ... -2.914167      NaN      NaN      NaN   \n",
       "\n",
       "        Ocn_090  Ocn_119  Ocn_097  Ocn_087  Ocn_169   Ocn_071  \n",
       "1000.0      NaN      NaN      NaN      NaN      NaN       NaN  \n",
       "1001.0      NaN      NaN      NaN      NaN      NaN       NaN  \n",
       "1002.0      NaN      NaN      NaN      NaN      NaN       NaN  \n",
       "1003.0      NaN      NaN      NaN      NaN      NaN       NaN  \n",
       "1004.0      NaN      NaN      NaN      NaN      NaN       NaN  \n",
       "...         ...      ...      ...      ...      ...       ...  \n",
       "1996.0      NaN      NaN      NaN      NaN      NaN -4.114561  \n",
       "1997.0      NaN      NaN      NaN      NaN      NaN -4.231963  \n",
       "1998.0      NaN      NaN      NaN      NaN      NaN -4.427678  \n",
       "1999.0      NaN      NaN      NaN      NaN      NaN -4.081667  \n",
       "2000.0      NaN      NaN      NaN      NaN      NaN       NaN  \n",
       "\n",
       "[1001 rows x 62 columns]"
      ]
     },
     "execution_count": 19,
     "metadata": {},
     "output_type": "execute_result"
    }
   ],
   "source": [
    "npos_proxy = job.proxydb.nrec\n",
    "lonlat = np.ndarray((npos_tas+npos_proxy, 2))\n",
    "\n",
    "k = 0\n",
    "for i in range(tas.nlon):\n",
    "    for j in range(tas.nlat):\n",
    "        lonlat[k] = [tas.lon[i], tas.lat[j]]\n",
    "        k += 1\n",
    "\n",
    "df_proxy = pd.DataFrame(index=recon_time)\n",
    "for pid, pobj in job.proxydb.records.items():\n",
    "    series = pd.Series(index=pobj.time, data=pobj.value, name=pid)\n",
    "    df_proxy = pd.concat([df_proxy, series], axis=1)\n",
    "    lonlat[k] = [pobj.lon, pobj.lat]\n",
    "    k += 1\n",
    "    \n",
    "df_proxy = df_proxy[(df_proxy.index>=recon_time[0]) & (df_proxy.index<=recon_time[-1])]\n",
    "df_proxy"
   ]
  },
  {
   "cell_type": "code",
   "execution_count": 20,
   "metadata": {},
   "outputs": [
    {
     "name": "stdout",
     "output_type": "stream",
     "text": [
      "(1001, 62)\n",
      "(2654, 2)\n",
      "2654\n"
     ]
    }
   ],
   "source": [
    "proxy = df_proxy.values\n",
    "print(np.shape(proxy))\n",
    "print(np.shape(lonlat))\n",
    "print(npos_tas+npos_proxy)"
   ]
  },
  {
   "cell_type": "code",
   "execution_count": 21,
   "metadata": {
    "collapsed": true,
    "jupyter": {
     "outputs_hidden": true
    },
    "tags": []
   },
   "outputs": [
    {
     "name": "stdout",
     "output_type": "stream",
     "text": [
      "Estimating graph using neighborhood method\n",
      "Running GraphEM:\n",
      "\n",
      "Iter     dXmis     rdXmis\n",
      "\n",
      "001     0.0850     0.0289\n",
      "002     0.1331     0.0452\n",
      "003     0.0782     0.0265\n",
      "004     0.0580     0.0196\n",
      "005     0.0494     0.0167\n",
      "006     0.0461     0.0156\n",
      "007     0.0448     0.0151\n",
      "008     0.0444     0.0150\n",
      "009     0.0454     0.0153\n",
      "010     0.0459     0.0154\n",
      "011     0.0469     0.0157\n",
      "012     0.0481     0.0161\n",
      "013     0.0497     0.0166\n",
      "014     0.0514     0.0171\n",
      "015     0.0531     0.0177\n",
      "016     0.0546     0.0181\n",
      "017     0.0559     0.0185\n",
      "018     0.0570     0.0187\n",
      "019     0.0580     0.0190\n",
      "020     0.0592     0.0193\n",
      "021     0.0606     0.0197\n",
      "022     0.0622     0.0201\n",
      "023     0.0641     0.0206\n",
      "024     0.0663     0.0212\n",
      "025     0.0688     0.0219\n",
      "026     0.0715     0.0226\n",
      "027     0.0744     0.0233\n",
      "028     0.0777     0.0242\n",
      "029     0.0813     0.0251\n",
      "030     0.0852     0.0260\n",
      "031     0.0892     0.0270\n",
      "032     0.0934     0.0280\n",
      "033     0.0979     0.0290\n",
      "034     0.1020     0.0298\n",
      "035     0.1063     0.0307\n",
      "036     0.1109     0.0315\n",
      "037     0.1155     0.0324\n",
      "038     0.1207     0.0332\n",
      "039     0.1248     0.0338\n",
      "040     0.1294     0.0344\n",
      "041     0.1342     0.0350\n",
      "042     0.1387     0.0354\n",
      "043     0.1427     0.0357\n",
      "044     0.1473     0.0361\n",
      "045     0.1522     0.0364\n",
      "046     0.1551     0.0362\n",
      "047     0.1589     0.0363\n",
      "048     0.1634     0.0364\n",
      "049     0.1684     0.0366\n",
      "050     0.1737     0.0368\n",
      "051     0.1735     0.0358\n",
      "052     0.1766     0.0355\n",
      "053     0.1807     0.0355\n",
      "054     0.1855     0.0355\n",
      "055     0.1906     0.0355\n",
      "056     0.1960     0.0356\n",
      "057     0.2018     0.0357\n",
      "058     0.2078     0.0357\n",
      "059     0.2045     0.0342\n",
      "060     0.2060     0.0336\n",
      "061     0.2095     0.0333\n",
      "062     0.2137     0.0331\n",
      "063     0.2184     0.0330\n",
      "064     0.2236     0.0329\n",
      "065     0.2292     0.0329\n",
      "066     0.2352     0.0329\n",
      "067     0.2414     0.0329\n",
      "068     0.2480     0.0329\n",
      "069     0.2549     0.0329\n",
      "070     0.2620     0.0330\n",
      "071     0.2694     0.0330\n",
      "072     0.2542     0.0303\n",
      "073     0.2536     0.0296\n",
      "074     0.2550     0.0291\n",
      "075     0.2575     0.0287\n",
      "076     0.2607     0.0284\n",
      "077     0.2643     0.0282\n",
      "078     0.2683     0.0280\n",
      "079     0.2726     0.0278\n",
      "080     0.2771     0.0276\n",
      "081     0.2819     0.0275\n",
      "082     0.2870     0.0273\n",
      "083     0.2923     0.0272\n",
      "084     0.2979     0.0271\n",
      "085     0.3036     0.0270\n",
      "086     0.3096     0.0270\n",
      "087     0.3158     0.0269\n",
      "088     0.3222     0.0268\n",
      "089     0.3288     0.0267\n",
      "090     0.3356     0.0267\n",
      "091     0.3426     0.0266\n",
      "092     0.3498     0.0266\n",
      "093     0.3572     0.0265\n",
      "094     0.3123     0.0227\n",
      "095     0.2808     0.0204\n",
      "096     0.2606     0.0189\n",
      "097     0.2487     0.0180\n",
      "098     0.2407     0.0173\n",
      "099     0.2350     0.0169\n",
      "100     0.2308     0.0165\n",
      "101     0.2278     0.0162\n",
      "102     0.2255     0.0159\n",
      "103     0.2237     0.0157\n",
      "104     0.2224     0.0156\n",
      "105     0.2214     0.0154\n",
      "106     0.2208     0.0153\n",
      "107     0.2204     0.0151\n",
      "108     0.2203     0.0150\n",
      "109     0.2205     0.0150\n",
      "110     0.2208     0.0149\n",
      "111     0.2214     0.0148\n",
      "112     0.2220     0.0148\n",
      "113     0.2229     0.0147\n",
      "114     0.2238     0.0147\n",
      "115     0.2248     0.0146\n",
      "116     0.2259     0.0146\n",
      "117     0.2271     0.0146\n",
      "118     0.2284     0.0145\n",
      "119     0.2297     0.0145\n",
      "120     0.2310     0.0145\n",
      "121     0.2324     0.0144\n",
      "122     0.2339     0.0144\n",
      "123     0.2353     0.0144\n",
      "124     0.2368     0.0144\n",
      "125     0.2383     0.0143\n",
      "126     0.2399     0.0143\n",
      "127     0.2414     0.0143\n",
      "128     0.2430     0.0143\n",
      "129     0.2446     0.0142\n",
      "130     0.2462     0.0142\n",
      "131     0.2478     0.0142\n",
      "132     0.2494     0.0141\n",
      "133     0.2510     0.0141\n",
      "134     0.2526     0.0141\n",
      "135     0.2543     0.0141\n",
      "136     0.2559     0.0140\n",
      "137     0.2576     0.0140\n",
      "138     0.2593     0.0140\n",
      "139     0.2610     0.0139\n",
      "140     0.2627     0.0139\n",
      "141     0.2644     0.0139\n",
      "142     0.2662     0.0138\n",
      "143     0.2679     0.0138\n",
      "144     0.2697     0.0138\n",
      "145     0.2715     0.0138\n",
      "146     0.2733     0.0137\n",
      "147     0.2751     0.0137\n",
      "148     0.2770     0.0137\n",
      "149     0.2788     0.0136\n",
      "150     0.2807     0.0136\n",
      "151     0.2826     0.0136\n",
      "152     0.2845     0.0136\n",
      "153     0.2864     0.0135\n",
      "154     0.2883     0.0135\n",
      "155     0.2903     0.0135\n",
      "156     0.2922     0.0134\n",
      "157     0.2942     0.0134\n",
      "158     0.2962     0.0134\n",
      "159     0.2982     0.0134\n",
      "160     0.3002     0.0133\n",
      "161     0.3022     0.0133\n",
      "162     0.3043     0.0133\n",
      "163     0.3063     0.0133\n",
      "164     0.3084     0.0132\n",
      "165     0.3105     0.0132\n",
      "166     0.3126     0.0132\n",
      "167     0.3148     0.0132\n",
      "168     0.3169     0.0131\n",
      "169     0.3191     0.0131\n",
      "170     0.3213     0.0131\n",
      "171     0.3235     0.0131\n",
      "172     0.3258     0.0131\n",
      "173     0.3281     0.0130\n",
      "174     0.3304     0.0130\n",
      "175     0.3328     0.0130\n",
      "176     0.3352     0.0130\n",
      "177     0.3376     0.0130\n",
      "178     0.3401     0.0130\n",
      "179     0.3426     0.0129\n",
      "180     0.3451     0.0129\n",
      "181     0.3477     0.0129\n",
      "182     0.3503     0.0129\n",
      "183     0.3530     0.0129\n",
      "184     0.3557     0.0129\n",
      "185     0.3585     0.0129\n",
      "186     0.3613     0.0129\n",
      "187     0.3641     0.0129\n",
      "188     0.3670     0.0128\n",
      "189     0.3699     0.0128\n",
      "190     0.3729     0.0128\n",
      "191     0.3759     0.0128\n",
      "192     0.3789     0.0128\n",
      "193     0.3821     0.0128\n",
      "194     0.3852     0.0128\n",
      "195     0.3884     0.0128\n",
      "196     0.3917     0.0128\n",
      "197     0.3949     0.0128\n",
      "198     0.3983     0.0128\n",
      "199     0.4017     0.0128\n",
      "200     0.4051     0.0128\n",
      "CPU times: user 3d 13h 2min 43s, sys: 1h 4min 15s, total: 3d 14h 6min 59s\n",
      "Wall time: 5h 29min 37s\n"
     ]
    }
   ],
   "source": [
    "%%time\n",
    "\n",
    "G = GraphEM.solver.GraphEM()\n",
    "G.fit(temp, proxy, calib, lonlat=lonlat, graph_method='neighborhood')\n",
    "\n",
    "pd.to_pickle(G, './testcases/PAGES2k_HadCRUT/recon/G.pkl')"
   ]
  },
  {
   "cell_type": "code",
   "execution_count": 22,
   "metadata": {},
   "outputs": [
    {
     "name": "stdout",
     "output_type": "stream",
     "text": [
      "Mean MSE = nan, Mean RE = nan, Mean CE = nan, Mean R2 = nan\n"
     ]
    }
   ],
   "source": [
    "V = GraphEM.solver.verif_stats(G.temp_r, temp, calib)\n",
    "print(V)"
   ]
  },
  {
   "cell_type": "code",
   "execution_count": 47,
   "metadata": {},
   "outputs": [
    {
     "name": "stdout",
     "output_type": "stream",
     "text": [
      "[43.58, 40.1, 179.2333, 124.833, 40.1, 210.1667, 200.1722, 202.7527, 34.32, 166.99, 197.87, 295.3, 173.0, 34.97, 134.2503, 113.749, 293.0, 34.97, 151.9772, 293.25, 179.23, 39.5, 55.0, 279.83, 153.0, 145.82, 166.04, 283.947, 134.3837, 34.31, 295.01120000000003, 295.3, 299.15, 283.423, 144.8359, 279.25, 113.77, 55.25, 146.0333, 142.1941, 200.1722, 166.9283, 115.5757, 113.965, 45.1, 45.1, 98.52, 179.2333, 43.58, 278.0, 172.0, 43.6195, 337.1117, 167.2, 250.7869, 200.1722, 144.8833, 250.7869, 145.8167, 268.77, 299.15, 298.51]\n"
     ]
    }
   ],
   "source": [
    "print(job.proxydb.lons)"
   ]
  },
  {
   "cell_type": "code",
   "execution_count": 23,
   "metadata": {},
   "outputs": [
    {
     "data": {
      "text/plain": [
       "(1001, 2592)"
      ]
     },
     "execution_count": 23,
     "metadata": {},
     "output_type": "execute_result"
    }
   ],
   "source": [
    "np.shape(G.temp_r)"
   ]
  },
  {
   "cell_type": "code",
   "execution_count": 27,
   "metadata": {},
   "outputs": [
    {
     "name": "stdout",
     "output_type": "stream",
     "text": [
      "(1001, 36, 72)\n"
     ]
    }
   ],
   "source": [
    "recon = G.temp_r.reshape((nt, nlat, nlon))\n",
    "print(np.shape(recon))"
   ]
  },
  {
   "cell_type": "code",
   "execution_count": 32,
   "metadata": {},
   "outputs": [
    {
     "name": "stdout",
     "output_type": "stream",
     "text": [
      "(1001,)\n"
     ]
    }
   ],
   "source": [
    "nino = LMRt.utils.nino_indices(recon, tas.lat, tas.lon)\n",
    "print(np.shape(nino['nino3.4']))"
   ]
  },
  {
   "cell_type": "code",
   "execution_count": 36,
   "metadata": {},
   "outputs": [],
   "source": [
    "ts_recon = LMRt.Series(time=np.arange(1000, 2001), value=nino['nino3.4'])"
   ]
  },
  {
   "cell_type": "code",
   "execution_count": 37,
   "metadata": {},
   "outputs": [],
   "source": [
    "from scipy.io import loadmat\n",
    "\n",
    "data = loadmat('./testcases/PAGES2k_HadCRUT/data/obs/NINO34_BC09.mat')\n",
    "syr, eyr = 1873, 2000\n",
    "nyr = eyr-syr+1\n",
    "nino34 = np.zeros(nyr)\n",
    "for i in range(nyr):\n",
    "    nino34[i] = np.mean(data['nino34'][i*12:12+i*12])\n",
    "\n",
    "ts_target = LMRt.Series(time=np.arange(syr, eyr+1), value=nino34, label='BC09')"
   ]
  },
  {
   "cell_type": "code",
   "execution_count": 46,
   "metadata": {},
   "outputs": [
    {
     "data": {
      "image/png": "[encoded data removed]",
      "text/plain": [
       "<Figure size 1000x400 with 1 Axes>"
      ]
     },
     "metadata": {},
     "output_type": "display_data"
    }
   ],
   "source": [
    "ts_hadcrut = LMRt.Series(\n",
    "    time=tas.time,\n",
    "    value=LMRt.utils.nino_indices(tas.value, tas.lat, tas.lon)['nino3.4'],\n",
    "    label='HadCRUT',\n",
    ")\n",
    "fig, ax = ts_hadcrut.plot()"
   ]
  },
  {
   "cell_type": "code",
   "execution_count": 47,
   "metadata": {},
   "outputs": [
    {
     "data": {
      "image/png": "[encoded data removed]",
      "text/plain": [
       "<Figure size 1000x400 with 1 Axes>"
      ]
     },
     "metadata": {},
     "output_type": "display_data"
    }
   ],
   "source": [
    "# plot and validate the NINO3.4\n",
    "fig, ax = ts_recon.plot(mute=True)\n",
    "ax.set_xlim(1800, 2000)\n",
    "ts_target.plot(ax=ax)\n",
    "ts_hadcrut.plot(ax=ax)\n",
    "LMRt.showfig(fig)"
   ]
  },
  {
   "cell_type": "code",
   "execution_count": null,
   "metadata": {},
   "outputs": [],
   "source": []
  }
 ],
 "metadata": {
  "kernelspec": {
   "display_name": "Python 3",
   "language": "python",
   "name": "python3"
  },
  "language_info": {
   "codemirror_mode": {
    "name": "ipython",
    "version": 3
   },
   "file_extension": ".py",
   "mimetype": "text/x-python",
   "name": "python",
   "nbconvert_exporter": "python",
   "pygments_lexer": "ipython3",
   "version": "3.8.8"
  }
 },
 "nbformat": 4,
 "nbformat_minor": 4
}
