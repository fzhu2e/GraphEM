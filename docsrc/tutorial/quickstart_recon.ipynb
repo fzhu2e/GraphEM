{
 "cells": [
  {
   "cell_type": "markdown",
   "metadata": {},
   "source": [
    "# Reconstruction using GraphEM"
   ]
  },
  {
   "cell_type": "markdown",
   "metadata": {},
   "source": [
    "**Expected time to run through: 10 mins**\n",
    "\n",
    "This tutorial demonstrates how to get a reconstruction using GraphEM, leveraging HadCRUT4 and PAGES2k."
   ]
  },
  {
   "cell_type": "code",
   "execution_count": 1,
   "metadata": {},
   "outputs": [],
   "source": [
    "%load_ext autoreload\n",
    "%autoreload 2\n",
    "\n",
    "import GraphEM\n",
    "import os\n",
    "import numpy as np\n",
    "import pandas as pd\n",
    "import xarray as xr\n",
    "import matplotlib.pyplot as  plt"
   ]
  },
  {
   "cell_type": "code",
   "execution_count": 2,
   "metadata": {},
   "outputs": [],
   "source": [
    "job = GraphEM.ReconJob()"
   ]
  },
  {
   "cell_type": "code",
   "execution_count": 3,
   "metadata": {},
   "outputs": [
    {
     "name": "stdout",
     "output_type": "stream",
     "text": [
      "\u001b[1m\u001b[36mGraphEM: job.load_configs() >>> loading reconstruction configurations from: ./testcases/PAGES2k_HadCRUT/configs.yml\u001b[0m\n",
      "\u001b[1m\u001b[32mGraphEM: job.load_configs() >>> job.configs created\u001b[0m\n",
      "\u001b[1m\u001b[36mGraphEM: job.load_configs() >>> job.configs[\"job_dirpath\"] = /Users/fzhu/Github/GraphEM/docsrc/tutorial/testcases/PAGES2k_HadCRUT/recon\u001b[0m\n",
      "\u001b[1m\u001b[32mGraphEM: job.load_configs() >>> /Users/fzhu/Github/GraphEM/docsrc/tutorial/testcases/PAGES2k_HadCRUT/recon created\u001b[0m\n",
      "{'anom_period': [1951, 1980],\n",
      " 'job_dirpath': '/Users/fzhu/Github/GraphEM/docsrc/tutorial/testcases/PAGES2k_HadCRUT/recon',\n",
      " 'job_id': 'LMRt_quickstart',\n",
      " 'obs_path': {'tas': './data/obs/HadCRUT.5.0.1.0.analysis.anomalies.ensemble_mean.nc'},\n",
      " 'obs_varname': {'tas': 'tas_mean'},\n",
      " 'proxydb_path': './data/proxy/pages2k_dataset.pkl',\n",
      " 'ptype_list': ['coral.d18O',\n",
      "                'coral.SrCa',\n",
      "                'coral.calc',\n",
      "                'tree.TRW',\n",
      "                'tree.MXD',\n",
      "                'ice.d18O',\n",
      "                'ice.dD'],\n",
      " 'recon_period': [0, 2000]}\n"
     ]
    }
   ],
   "source": [
    "job.load_configs('./testcases/PAGES2k_HadCRUT/configs.yml', verbose=True)"
   ]
  },
  {
   "cell_type": "code",
   "execution_count": 4,
   "metadata": {},
   "outputs": [
    {
     "name": "stdout",
     "output_type": "stream",
     "text": [
      "\u001b[1m\u001b[36mGraphEM: job.load_proxydb() >>> job.configs[\"proxydb_path\"] = /Users/fzhu/Github/GraphEM/docsrc/tutorial/testcases/PAGES2k_HadCRUT/data/proxy/pages2k_dataset.pkl\u001b[0m\n",
      "\u001b[1m\u001b[32mGraphEM: job.load_proxydb() >>> 692 records loaded\u001b[0m\n",
      "\u001b[1m\u001b[32mGraphEM: job.load_proxydb() >>> job.proxydb created\u001b[0m\n"
     ]
    }
   ],
   "source": [
    "job.load_proxydb(verbose=True)"
   ]
  },
  {
   "cell_type": "code",
   "execution_count": 5,
   "metadata": {},
   "outputs": [
    {
     "name": "stdout",
     "output_type": "stream",
     "text": [
      "\u001b[1m\u001b[36mGraphEM: job.filter_proxydb() >>> job.configs[\"ptype_list\"] = ['coral.d18O']\u001b[0m\n",
      "\u001b[1m\u001b[36mGraphEM: job.filter_proxydb() >>> filtering proxy records according to: ['coral.d18O']\u001b[0m\n",
      "\u001b[1m\u001b[32mGraphEM: job.filter_proxydb() >>> 62 records remaining\u001b[0m\n"
     ]
    }
   ],
   "source": [
    "job.filter_proxydb(ptype_list=['coral.d18O'], verbose=True)"
   ]
  },
  {
   "cell_type": "code",
   "execution_count": 6,
   "metadata": {},
   "outputs": [
    {
     "name": "stdout",
     "output_type": "stream",
     "text": [
      "\u001b[1m\u001b[36mGraphEM: job.seasonalize_proxydb() >>> job.configs[\"ptype_season\"] = {'coral.d18O': [1, 2, 3, 4, 5, 6, 7, 8, 9, 10, 11, 12]}\u001b[0m\n",
      "\u001b[1m\u001b[36mGraphEM: job.seasonalize_proxydb() >>> seasonalizing proxy records according to: {'coral.d18O': [1, 2, 3, 4, 5, 6, 7, 8, 9, 10, 11, 12]}\u001b[0m\n",
      "\u001b[1m\u001b[32mGraphEM: job.seasonalize_proxydb() >>> 62 records remaining\u001b[0m\n",
      "\u001b[1m\u001b[32mGraphEM: job.seasonalize_proxydb() >>> job.proxydb updated\u001b[0m\n"
     ]
    }
   ],
   "source": [
    "# ptype_season = {}\n",
    "# for k, v in job.proxydb.type_dict.items():\n",
    "#     ptype_season[k] = list(range(1, 13)) # annual\n",
    "    \n",
    "# job.seasonalize_proxydb(ptype_season, verbose=True)\n",
    "job.seasonalize_proxydb(verbose=True)"
   ]
  },
  {
   "cell_type": "code",
   "execution_count": 7,
   "metadata": {},
   "outputs": [
    {
     "name": "stdout",
     "output_type": "stream",
     "text": [
      "\u001b[1m\u001b[36mGraphEM: job.load_obs() >>> loading instrumental observation fields from: {'tas': '/Users/fzhu/Github/GraphEM/docsrc/tutorial/testcases/PAGES2k_HadCRUT/data/obs/HadCRUT.5.0.1.0.analysis.anomalies.ensemble_mean.nc'}\u001b[0m\n",
      "\u001b[1m\u001b[32mGraphEM: job.load_obs() >>> job.obs created\u001b[0m\n"
     ]
    }
   ],
   "source": [
    "job.load_obs(varname_dict={'lat': 'latitude', 'lon': 'longitude', 'tas': 'tas_mean'}, verbose=True)"
   ]
  },
  {
   "cell_type": "code",
   "execution_count": 8,
   "metadata": {},
   "outputs": [
    {
     "name": "stdout",
     "output_type": "stream",
     "text": [
      "\u001b[1m\u001b[36mGraphEM: job.seasonalize_obs() >>> job.configs[\"obs_season\"] = [1, 2, 3, 4, 5, 6, 7, 8, 9, 10, 11, 12]\u001b[0m\n",
      "\u001b[1m\u001b[30mGraphEM: job.seasonalize_obs() >>> seasonalized obs w/ season [1, 2, 3, 4, 5, 6, 7, 8, 9, 10, 11, 12]\u001b[0m\n",
      "Dataset Overview\n",
      "-----------------------\n",
      "\n",
      "     Name:  tas\n",
      "   Source:  /Users/fzhu/Github/GraphEM/docsrc/tutorial/testcases/PAGES2k_HadCRUT/data/obs/HadCRUT.5.0.1.0.analysis.anomalies.ensemble_mean.nc\n",
      "    Shape:  time:171, lat:36, lon:72\n",
      "\u001b[1m\u001b[32mGraphEM: job.seasonalize_obs() >>> job.obs updated\u001b[0m\n"
     ]
    },
    {
     "name": "stderr",
     "output_type": "stream",
     "text": [
      "/Users/fzhu/Github/LMRt/LMRt/utils.py:258: RuntimeWarning: Mean of empty slice\n",
      "  tmp = np.nanmean(var[inds, ...], axis=0)\n"
     ]
    }
   ],
   "source": [
    "job.seasonalize_obs(verbose=True)"
   ]
  },
  {
   "cell_type": "code",
   "execution_count": 30,
   "metadata": {},
   "outputs": [
    {
     "name": "stdout",
     "output_type": "stream",
     "text": [
      "[1850 1851 1852 1853 1854 1855 1856 1857 1858 1859 1860 1861 1862 1863\n",
      " 1864 1865 1866 1867 1868 1869 1870 1871 1872 1873 1874 1875 1876 1877\n",
      " 1878 1879 1880 1881 1882 1883 1884 1885 1886 1887 1888 1889 1890 1891\n",
      " 1892 1893 1894 1895 1896 1897 1898 1899 1900 1901 1902 1903 1904 1905\n",
      " 1906 1907 1908 1909 1910 1911 1912 1913 1914 1915 1916 1917 1918 1919\n",
      " 1920 1921 1922 1923 1924 1925 1926 1927 1928 1929 1930 1931 1932 1933\n",
      " 1934 1935 1936 1937 1938 1939 1940 1941 1942 1943 1944 1945 1946 1947\n",
      " 1948 1949 1950 1951 1952 1953 1954 1955 1956 1957 1958 1959 1960 1961\n",
      " 1962 1963 1964 1965 1966 1967 1968 1969 1970 1971 1972 1973 1974 1975\n",
      " 1976 1977 1978 1979 1980 1981 1982 1983 1984 1985 1986 1987 1988 1989\n",
      " 1990 1991 1992 1993 1994 1995 1996 1997 1998 1999 2000 2001 2002 2003\n",
      " 2004 2005 2006 2007 2008 2009 2010 2011 2012 2013 2014 2015 2016 2017\n",
      " 2018 2019 2020]\n"
     ]
    }
   ],
   "source": [
    "tas = job.obs.fields['tas']\n",
    "print(tas.time)"
   ]
  },
  {
   "cell_type": "code",
   "execution_count": 31,
   "metadata": {},
   "outputs": [],
   "source": [
    "recon_time = np.arange(1850, 2001)\n",
    "nt = np.size(recon_time)\n",
    "idx = np.arange(nt)\n",
    "calib = idx[-100:]"
   ]
  },
  {
   "cell_type": "code",
   "execution_count": 33,
   "metadata": {},
   "outputs": [
    {
     "name": "stdout",
     "output_type": "stream",
     "text": [
      "171 2592\n",
      "151\n",
      "(151, 2592)\n"
     ]
    }
   ],
   "source": [
    "tas_value = job.obs.fields['tas'].value.reshape(np.shape(tas.value)[0], -1)\n",
    "nt_tas, npos_tas =  np.shape(tas_value)\n",
    "print(nt_tas, npos_tas)\n",
    "\n",
    "temp = np.ndarray((nt, npos_tas))\n",
    "idx_tas = np.array([list(recon_time).index(yr) for yr in tas.time if yr <= recon_time[-1]])\n",
    "temp[idx_tas] = tas_value[tas.time<=recon_time[-1]]\n",
    "print(np.size(idx_tas))\n",
    "print(np.shape(temp))"
   ]
  },
  {
   "cell_type": "code",
   "execution_count": 38,
   "metadata": {},
   "outputs": [],
   "source": [
    "npos_proxy = job.proxydb.nrec\n",
    "lonlat = np.ndarray((npos_tas+npos_proxy, 2))\n",
    "\n",
    "k = 0\n",
    "for i in range(tas.nlon):\n",
    "    for j in range(tas.nlat):\n",
    "        lonlat[k] = [tas.lon[i], tas.lat[j]]\n",
    "        k += 1\n",
    "\n",
    "df_proxy = pd.DataFrame(index=recon_time)\n",
    "for pid, pobj in job.proxydb.records.items():\n",
    "    series = pd.Series(index=pobj.time, data=pobj.value, name=pid)\n",
    "    df_proxy = pd.concat([df_proxy, series], axis=1)\n",
    "    lonlat[k] = [pobj.lon, pobj.lat]\n",
    "    k += 1\n",
    "    \n",
    "df_proxy = df_proxy[(df_proxy.index>=recon_time[0]) & (df_proxy.index<=recon_time[-1])]"
   ]
  },
  {
   "cell_type": "code",
   "execution_count": 39,
   "metadata": {},
   "outputs": [
    {
     "data": {
      "text/html": [
       "<div>\n",
       "<style scoped>\n",
       "    .dataframe tbody tr th:only-of-type {\n",
       "        vertical-align: middle;\n",
       "    }\n",
       "\n",
       "    .dataframe tbody tr th {\n",
       "        vertical-align: top;\n",
       "    }\n",
       "\n",
       "    .dataframe thead th {\n",
       "        text-align: right;\n",
       "    }\n",
       "</style>\n",
       "<table border=\"1\" class=\"dataframe\">\n",
       "  <thead>\n",
       "    <tr style=\"text-align: right;\">\n",
       "      <th></th>\n",
       "      <th>Ocn_075</th>\n",
       "      <th>Ocn_078</th>\n",
       "      <th>Ocn_091</th>\n",
       "      <th>Ocn_086</th>\n",
       "      <th>Ocn_076</th>\n",
       "      <th>Ocn_099</th>\n",
       "      <th>Ocn_178</th>\n",
       "      <th>Ocn_177</th>\n",
       "      <th>Ocn_080</th>\n",
       "      <th>Ocn_108</th>\n",
       "      <th>...</th>\n",
       "      <th>Ocn_146</th>\n",
       "      <th>Ocn_181</th>\n",
       "      <th>Ocn_162</th>\n",
       "      <th>Ocn_125</th>\n",
       "      <th>Ocn_090</th>\n",
       "      <th>Ocn_119</th>\n",
       "      <th>Ocn_097</th>\n",
       "      <th>Ocn_087</th>\n",
       "      <th>Ocn_169</th>\n",
       "      <th>Ocn_071</th>\n",
       "    </tr>\n",
       "  </thead>\n",
       "  <tbody>\n",
       "    <tr>\n",
       "      <th>1850.0</th>\n",
       "      <td>-4.323333</td>\n",
       "      <td>-4.286</td>\n",
       "      <td>-4.78</td>\n",
       "      <td>NaN</td>\n",
       "      <td>NaN</td>\n",
       "      <td>NaN</td>\n",
       "      <td>NaN</td>\n",
       "      <td>NaN</td>\n",
       "      <td>-3.456667</td>\n",
       "      <td>-4.60</td>\n",
       "      <td>...</td>\n",
       "      <td>NaN</td>\n",
       "      <td>NaN</td>\n",
       "      <td>NaN</td>\n",
       "      <td>-4.04500</td>\n",
       "      <td>NaN</td>\n",
       "      <td>NaN</td>\n",
       "      <td>NaN</td>\n",
       "      <td>-3.97</td>\n",
       "      <td>NaN</td>\n",
       "      <td>NaN</td>\n",
       "    </tr>\n",
       "    <tr>\n",
       "      <th>1851.0</th>\n",
       "      <td>-4.418333</td>\n",
       "      <td>-4.366</td>\n",
       "      <td>-4.84</td>\n",
       "      <td>NaN</td>\n",
       "      <td>NaN</td>\n",
       "      <td>NaN</td>\n",
       "      <td>NaN</td>\n",
       "      <td>NaN</td>\n",
       "      <td>-3.406667</td>\n",
       "      <td>-4.59</td>\n",
       "      <td>...</td>\n",
       "      <td>NaN</td>\n",
       "      <td>NaN</td>\n",
       "      <td>NaN</td>\n",
       "      <td>-4.31250</td>\n",
       "      <td>NaN</td>\n",
       "      <td>NaN</td>\n",
       "      <td>NaN</td>\n",
       "      <td>-4.09</td>\n",
       "      <td>NaN</td>\n",
       "      <td>NaN</td>\n",
       "    </tr>\n",
       "    <tr>\n",
       "      <th>1852.0</th>\n",
       "      <td>-4.406667</td>\n",
       "      <td>-4.518</td>\n",
       "      <td>-4.86</td>\n",
       "      <td>NaN</td>\n",
       "      <td>NaN</td>\n",
       "      <td>-4.15</td>\n",
       "      <td>NaN</td>\n",
       "      <td>NaN</td>\n",
       "      <td>-3.271667</td>\n",
       "      <td>-4.66</td>\n",
       "      <td>...</td>\n",
       "      <td>NaN</td>\n",
       "      <td>NaN</td>\n",
       "      <td>NaN</td>\n",
       "      <td>-4.20875</td>\n",
       "      <td>NaN</td>\n",
       "      <td>NaN</td>\n",
       "      <td>NaN</td>\n",
       "      <td>-4.00</td>\n",
       "      <td>NaN</td>\n",
       "      <td>NaN</td>\n",
       "    </tr>\n",
       "    <tr>\n",
       "      <th>1853.0</th>\n",
       "      <td>-4.395000</td>\n",
       "      <td>-4.352</td>\n",
       "      <td>-4.79</td>\n",
       "      <td>NaN</td>\n",
       "      <td>NaN</td>\n",
       "      <td>-4.00</td>\n",
       "      <td>NaN</td>\n",
       "      <td>NaN</td>\n",
       "      <td>-3.443333</td>\n",
       "      <td>-4.69</td>\n",
       "      <td>...</td>\n",
       "      <td>NaN</td>\n",
       "      <td>NaN</td>\n",
       "      <td>NaN</td>\n",
       "      <td>-4.14250</td>\n",
       "      <td>NaN</td>\n",
       "      <td>NaN</td>\n",
       "      <td>NaN</td>\n",
       "      <td>-4.26</td>\n",
       "      <td>NaN</td>\n",
       "      <td>NaN</td>\n",
       "    </tr>\n",
       "    <tr>\n",
       "      <th>1854.0</th>\n",
       "      <td>-4.406667</td>\n",
       "      <td>-4.353</td>\n",
       "      <td>-4.77</td>\n",
       "      <td>NaN</td>\n",
       "      <td>NaN</td>\n",
       "      <td>-4.01</td>\n",
       "      <td>NaN</td>\n",
       "      <td>NaN</td>\n",
       "      <td>-3.421667</td>\n",
       "      <td>-4.80</td>\n",
       "      <td>...</td>\n",
       "      <td>NaN</td>\n",
       "      <td>NaN</td>\n",
       "      <td>NaN</td>\n",
       "      <td>-4.24875</td>\n",
       "      <td>NaN</td>\n",
       "      <td>NaN</td>\n",
       "      <td>NaN</td>\n",
       "      <td>-4.11</td>\n",
       "      <td>NaN</td>\n",
       "      <td>NaN</td>\n",
       "    </tr>\n",
       "    <tr>\n",
       "      <th>...</th>\n",
       "      <td>...</td>\n",
       "      <td>...</td>\n",
       "      <td>...</td>\n",
       "      <td>...</td>\n",
       "      <td>...</td>\n",
       "      <td>...</td>\n",
       "      <td>...</td>\n",
       "      <td>...</td>\n",
       "      <td>...</td>\n",
       "      <td>...</td>\n",
       "      <td>...</td>\n",
       "      <td>...</td>\n",
       "      <td>...</td>\n",
       "      <td>...</td>\n",
       "      <td>...</td>\n",
       "      <td>...</td>\n",
       "      <td>...</td>\n",
       "      <td>...</td>\n",
       "      <td>...</td>\n",
       "      <td>...</td>\n",
       "      <td>...</td>\n",
       "    </tr>\n",
       "    <tr>\n",
       "      <th>1996.0</th>\n",
       "      <td>NaN</td>\n",
       "      <td>NaN</td>\n",
       "      <td>-5.32</td>\n",
       "      <td>NaN</td>\n",
       "      <td>-5.016917</td>\n",
       "      <td>NaN</td>\n",
       "      <td>-4.70125</td>\n",
       "      <td>NaN</td>\n",
       "      <td>NaN</td>\n",
       "      <td>NaN</td>\n",
       "      <td>...</td>\n",
       "      <td>-3.093333</td>\n",
       "      <td>NaN</td>\n",
       "      <td>NaN</td>\n",
       "      <td>-4.78750</td>\n",
       "      <td>NaN</td>\n",
       "      <td>NaN</td>\n",
       "      <td>NaN</td>\n",
       "      <td>NaN</td>\n",
       "      <td>NaN</td>\n",
       "      <td>-4.114561</td>\n",
       "    </tr>\n",
       "    <tr>\n",
       "      <th>1997.0</th>\n",
       "      <td>NaN</td>\n",
       "      <td>NaN</td>\n",
       "      <td>NaN</td>\n",
       "      <td>NaN</td>\n",
       "      <td>-5.024917</td>\n",
       "      <td>NaN</td>\n",
       "      <td>-4.53625</td>\n",
       "      <td>NaN</td>\n",
       "      <td>NaN</td>\n",
       "      <td>NaN</td>\n",
       "      <td>...</td>\n",
       "      <td>-3.173333</td>\n",
       "      <td>NaN</td>\n",
       "      <td>NaN</td>\n",
       "      <td>NaN</td>\n",
       "      <td>NaN</td>\n",
       "      <td>NaN</td>\n",
       "      <td>NaN</td>\n",
       "      <td>NaN</td>\n",
       "      <td>NaN</td>\n",
       "      <td>-4.231963</td>\n",
       "    </tr>\n",
       "    <tr>\n",
       "      <th>1998.0</th>\n",
       "      <td>NaN</td>\n",
       "      <td>NaN</td>\n",
       "      <td>NaN</td>\n",
       "      <td>NaN</td>\n",
       "      <td>-5.157250</td>\n",
       "      <td>NaN</td>\n",
       "      <td>-4.49750</td>\n",
       "      <td>NaN</td>\n",
       "      <td>NaN</td>\n",
       "      <td>NaN</td>\n",
       "      <td>...</td>\n",
       "      <td>-2.964167</td>\n",
       "      <td>NaN</td>\n",
       "      <td>NaN</td>\n",
       "      <td>NaN</td>\n",
       "      <td>NaN</td>\n",
       "      <td>NaN</td>\n",
       "      <td>NaN</td>\n",
       "      <td>NaN</td>\n",
       "      <td>NaN</td>\n",
       "      <td>-4.427678</td>\n",
       "    </tr>\n",
       "    <tr>\n",
       "      <th>1999.0</th>\n",
       "      <td>NaN</td>\n",
       "      <td>NaN</td>\n",
       "      <td>NaN</td>\n",
       "      <td>NaN</td>\n",
       "      <td>-5.048000</td>\n",
       "      <td>NaN</td>\n",
       "      <td>-4.85000</td>\n",
       "      <td>NaN</td>\n",
       "      <td>NaN</td>\n",
       "      <td>NaN</td>\n",
       "      <td>...</td>\n",
       "      <td>-2.984167</td>\n",
       "      <td>NaN</td>\n",
       "      <td>NaN</td>\n",
       "      <td>NaN</td>\n",
       "      <td>NaN</td>\n",
       "      <td>NaN</td>\n",
       "      <td>NaN</td>\n",
       "      <td>NaN</td>\n",
       "      <td>NaN</td>\n",
       "      <td>-4.081667</td>\n",
       "    </tr>\n",
       "    <tr>\n",
       "      <th>2000.0</th>\n",
       "      <td>NaN</td>\n",
       "      <td>NaN</td>\n",
       "      <td>NaN</td>\n",
       "      <td>NaN</td>\n",
       "      <td>-5.042917</td>\n",
       "      <td>NaN</td>\n",
       "      <td>NaN</td>\n",
       "      <td>NaN</td>\n",
       "      <td>NaN</td>\n",
       "      <td>NaN</td>\n",
       "      <td>...</td>\n",
       "      <td>-2.914167</td>\n",
       "      <td>NaN</td>\n",
       "      <td>NaN</td>\n",
       "      <td>NaN</td>\n",
       "      <td>NaN</td>\n",
       "      <td>NaN</td>\n",
       "      <td>NaN</td>\n",
       "      <td>NaN</td>\n",
       "      <td>NaN</td>\n",
       "      <td>NaN</td>\n",
       "    </tr>\n",
       "  </tbody>\n",
       "</table>\n",
       "<p>151 rows × 62 columns</p>\n",
       "</div>"
      ],
      "text/plain": [
       "         Ocn_075  Ocn_078  Ocn_091  Ocn_086   Ocn_076  Ocn_099  Ocn_178  \\\n",
       "1850.0 -4.323333   -4.286    -4.78      NaN       NaN      NaN      NaN   \n",
       "1851.0 -4.418333   -4.366    -4.84      NaN       NaN      NaN      NaN   \n",
       "1852.0 -4.406667   -4.518    -4.86      NaN       NaN    -4.15      NaN   \n",
       "1853.0 -4.395000   -4.352    -4.79      NaN       NaN    -4.00      NaN   \n",
       "1854.0 -4.406667   -4.353    -4.77      NaN       NaN    -4.01      NaN   \n",
       "...          ...      ...      ...      ...       ...      ...      ...   \n",
       "1996.0       NaN      NaN    -5.32      NaN -5.016917      NaN -4.70125   \n",
       "1997.0       NaN      NaN      NaN      NaN -5.024917      NaN -4.53625   \n",
       "1998.0       NaN      NaN      NaN      NaN -5.157250      NaN -4.49750   \n",
       "1999.0       NaN      NaN      NaN      NaN -5.048000      NaN -4.85000   \n",
       "2000.0       NaN      NaN      NaN      NaN -5.042917      NaN      NaN   \n",
       "\n",
       "        Ocn_177   Ocn_080  Ocn_108  ...   Ocn_146  Ocn_181  Ocn_162  Ocn_125  \\\n",
       "1850.0      NaN -3.456667    -4.60  ...       NaN      NaN      NaN -4.04500   \n",
       "1851.0      NaN -3.406667    -4.59  ...       NaN      NaN      NaN -4.31250   \n",
       "1852.0      NaN -3.271667    -4.66  ...       NaN      NaN      NaN -4.20875   \n",
       "1853.0      NaN -3.443333    -4.69  ...       NaN      NaN      NaN -4.14250   \n",
       "1854.0      NaN -3.421667    -4.80  ...       NaN      NaN      NaN -4.24875   \n",
       "...         ...       ...      ...  ...       ...      ...      ...      ...   \n",
       "1996.0      NaN       NaN      NaN  ... -3.093333      NaN      NaN -4.78750   \n",
       "1997.0      NaN       NaN      NaN  ... -3.173333      NaN      NaN      NaN   \n",
       "1998.0      NaN       NaN      NaN  ... -2.964167      NaN      NaN      NaN   \n",
       "1999.0      NaN       NaN      NaN  ... -2.984167      NaN      NaN      NaN   \n",
       "2000.0      NaN       NaN      NaN  ... -2.914167      NaN      NaN      NaN   \n",
       "\n",
       "        Ocn_090  Ocn_119  Ocn_097  Ocn_087  Ocn_169   Ocn_071  \n",
       "1850.0      NaN      NaN      NaN    -3.97      NaN       NaN  \n",
       "1851.0      NaN      NaN      NaN    -4.09      NaN       NaN  \n",
       "1852.0      NaN      NaN      NaN    -4.00      NaN       NaN  \n",
       "1853.0      NaN      NaN      NaN    -4.26      NaN       NaN  \n",
       "1854.0      NaN      NaN      NaN    -4.11      NaN       NaN  \n",
       "...         ...      ...      ...      ...      ...       ...  \n",
       "1996.0      NaN      NaN      NaN      NaN      NaN -4.114561  \n",
       "1997.0      NaN      NaN      NaN      NaN      NaN -4.231963  \n",
       "1998.0      NaN      NaN      NaN      NaN      NaN -4.427678  \n",
       "1999.0      NaN      NaN      NaN      NaN      NaN -4.081667  \n",
       "2000.0      NaN      NaN      NaN      NaN      NaN       NaN  \n",
       "\n",
       "[151 rows x 62 columns]"
      ]
     },
     "execution_count": 39,
     "metadata": {},
     "output_type": "execute_result"
    }
   ],
   "source": [
    "df_proxy"
   ]
  },
  {
   "cell_type": "code",
   "execution_count": 40,
   "metadata": {},
   "outputs": [
    {
     "name": "stdout",
     "output_type": "stream",
     "text": [
      "(151, 62)\n",
      "(2654, 2)\n",
      "2654\n"
     ]
    }
   ],
   "source": [
    "proxy = df_proxy.values\n",
    "print(np.shape(proxy))\n",
    "print(np.shape(lonlat))\n",
    "print(npos_tas+npos_proxy)"
   ]
  },
  {
   "cell_type": "code",
   "execution_count": 41,
   "metadata": {},
   "outputs": [
    {
     "name": "stdout",
     "output_type": "stream",
     "text": [
      "Estimating graph using neighborhood method\n",
      "Running GraphEM:\n",
      "\n",
      "Iter     dXmis     rdXmis\n",
      "\n",
      "001     0.0454     nan\n",
      "CPU times: user 37min 54s, sys: 1min 26s, total: 39min 21s\n",
      "Wall time: 7min 34s\n"
     ]
    }
   ],
   "source": [
    "%%time\n",
    "\n",
    "G = GraphEM.solver.GraphEM()\n",
    "G.fit(temp, proxy, calib, lonlat=lonlat, graph_method='neighborhood')"
   ]
  },
  {
   "cell_type": "code",
   "execution_count": 42,
   "metadata": {},
   "outputs": [
    {
     "name": "stdout",
     "output_type": "stream",
     "text": [
      "Mean MSE = nan, Mean RE = nan, Mean CE = nan, Mean R2 = nan\n"
     ]
    }
   ],
   "source": [
    "V = GraphEM.solver.verif_stats(G.temp_r, temp, calib)\n",
    "print(V)"
   ]
  },
  {
   "cell_type": "code",
   "execution_count": 47,
   "metadata": {},
   "outputs": [
    {
     "name": "stdout",
     "output_type": "stream",
     "text": [
      "[43.58, 40.1, 179.2333, 124.833, 40.1, 210.1667, 200.1722, 202.7527, 34.32, 166.99, 197.87, 295.3, 173.0, 34.97, 134.2503, 113.749, 293.0, 34.97, 151.9772, 293.25, 179.23, 39.5, 55.0, 279.83, 153.0, 145.82, 166.04, 283.947, 134.3837, 34.31, 295.01120000000003, 295.3, 299.15, 283.423, 144.8359, 279.25, 113.77, 55.25, 146.0333, 142.1941, 200.1722, 166.9283, 115.5757, 113.965, 45.1, 45.1, 98.52, 179.2333, 43.58, 278.0, 172.0, 43.6195, 337.1117, 167.2, 250.7869, 200.1722, 144.8833, 250.7869, 145.8167, 268.77, 299.15, 298.51]\n"
     ]
    }
   ],
   "source": [
    "print(job.proxydb.lons)"
   ]
  },
  {
   "cell_type": "code",
   "execution_count": null,
   "metadata": {},
   "outputs": [],
   "source": []
  }
 ],
 "metadata": {
  "kernelspec": {
   "display_name": "Python 3",
   "language": "python",
   "name": "python3"
  },
  "language_info": {
   "codemirror_mode": {
    "name": "ipython",
    "version": 3
   },
   "file_extension": ".py",
   "mimetype": "text/x-python",
   "name": "python",
   "nbconvert_exporter": "python",
   "pygments_lexer": "ipython3",
   "version": "3.8.8"
  }
 },
 "nbformat": 4,
 "nbformat_minor": 4
}
