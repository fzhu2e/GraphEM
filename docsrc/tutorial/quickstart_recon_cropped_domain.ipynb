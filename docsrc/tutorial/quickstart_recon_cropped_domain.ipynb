{
 "cells": [
  {
   "cell_type": "markdown",
   "metadata": {},
   "source": [
    "# Reconstruction over a smaller domain using GraphEM"
   ]
  },
  {
   "cell_type": "markdown",
   "metadata": {},
   "source": [
    "**Expected time to run through: 10 mins**\n",
    "\n",
    "This tutorial demonstrates how to get a reconstruction over a smaller domain (30N-70N, 130W-70W) using GraphEM, leveraging HadCRUT4 and the PAGES2k proxy database."
   ]
  },
  {
   "cell_type": "markdown",
   "metadata": {},
   "source": [
    "## Test data preparation\n",
    "\n",
    "To go through this tutorial, please prepare test data following the steps:\n",
    "\n",
    "Download the test case named “PAGES2k_HadCRUT” with this [link](https://drive.google.com/drive/folders/12V0Ny4eO2HKU40-Iy5Jiw2SAfVNzXXcd?usp=sharing).\n",
    "Create a directory named “testcases” in the same directory where this notebook sits.\n",
    "Put the unzipped direcotry “PAGES2k_HadCRUT_cropped_domain” into “testcases”.\n",
    "\n",
    "Below, we first load some useful packages, including our `GraphEM`."
   ]
  },
  {
   "cell_type": "code",
   "execution_count": 1,
   "metadata": {},
   "outputs": [],
   "source": [
    "%load_ext autoreload\n",
    "%autoreload 2\n",
    "\n",
    "import LMRt\n",
    "import GraphEM\n",
    "import os\n",
    "import numpy as np\n",
    "import pandas as pd\n",
    "import xarray as xr\n",
    "import matplotlib.pyplot as  plt"
   ]
  },
  {
   "cell_type": "markdown",
   "metadata": {},
   "source": [
    "## Low-level workflow"
   ]
  },
  {
   "cell_type": "code",
   "execution_count": 2,
   "metadata": {},
   "outputs": [],
   "source": [
    "job = GraphEM.ReconJob()"
   ]
  },
  {
   "cell_type": "code",
   "execution_count": 3,
   "metadata": {},
   "outputs": [
    {
     "name": "stdout",
     "output_type": "stream",
     "text": [
      "\u001b[1m\u001b[36mGraphEM: job.load_configs() >>> loading reconstruction configurations from: ./testcases/PAGES2k_HadCRUT_cropped_domain/configs.yml\u001b[0m\n",
      "\u001b[1m\u001b[32mGraphEM: job.load_configs() >>> job.configs created\u001b[0m\n",
      "\u001b[1m\u001b[36mGraphEM: job.load_configs() >>> job.configs[\"job_dirpath\"] = /Users/fzhu/Github/GraphEM/docsrc/tutorial/testcases/PAGES2k_HadCRUT_cropped_domain/recon\u001b[0m\n",
      "\u001b[1m\u001b[32mGraphEM: job.load_configs() >>> /Users/fzhu/Github/GraphEM/docsrc/tutorial/testcases/PAGES2k_HadCRUT_cropped_domain/recon created\u001b[0m\n",
      "{'anom_period': [1951, 1980],\n",
      " 'calib_period': [1930, 2000],\n",
      " 'job_dirpath': '/Users/fzhu/Github/GraphEM/docsrc/tutorial/testcases/PAGES2k_HadCRUT_cropped_domain/recon',\n",
      " 'job_id': 'GraphEM_tutorial',\n",
      " 'obs_path': {'tas': './data/obs/HadCRUT.5.0.1.0.analysis.anomalies.ensemble_mean.nc'},\n",
      " 'obs_varname': {'lat': 'latitude', 'lon': 'longitude', 'tas': 'tas_mean'},\n",
      " 'proxydb_path': './data/proxy/pages2k_dataset.pkl',\n",
      " 'ptype_list': ['coral.d18O',\n",
      "                'coral.SrCa',\n",
      "                'coral.calc',\n",
      "                'tree.TRW',\n",
      "                'tree.MXD'],\n",
      " 'recon_period': [1500, 2000]}\n"
     ]
    }
   ],
   "source": [
    "job.load_configs('./testcases/PAGES2k_HadCRUT_cropped_domain/configs.yml', verbose=True)"
   ]
  },
  {
   "cell_type": "code",
   "execution_count": 4,
   "metadata": {},
   "outputs": [
    {
     "name": "stdout",
     "output_type": "stream",
     "text": [
      "\u001b[1m\u001b[36mGraphEM: job.load_proxydb() >>> job.configs[\"proxydb_path\"] = /Users/fzhu/Github/GraphEM/docsrc/tutorial/testcases/PAGES2k_HadCRUT_cropped_domain/data/proxy/pages2k_dataset.pkl\u001b[0m\n",
      "\u001b[1m\u001b[32mGraphEM: job.load_proxydb() >>> 692 records loaded\u001b[0m\n",
      "\u001b[1m\u001b[32mGraphEM: job.load_proxydb() >>> job.proxydb created\u001b[0m\n"
     ]
    }
   ],
   "source": [
    "job.load_proxydb(verbose=True)"
   ]
  },
  {
   "cell_type": "code",
   "execution_count": 11,
   "metadata": {},
   "outputs": [
    {
     "name": "stdout",
     "output_type": "stream",
     "text": [
      "Proxy Database Overview\n",
      "-----------------------\n",
      "     Source:        /Users/fzhu/Github/GraphEM/docsrc/tutorial/testcases/PAGES2k_HadCRUT_cropped_domain/data/proxy/pages2k_dataset.pkl\n",
      "       Size:        111\n",
      "Proxy types:        {'tree.TRW': 70, 'tree.MXD': 41}\n"
     ]
    }
   ],
   "source": [
    "# filter the proxy database by spatial region larger than the target (30N-70N, 130W-70W); using (10N-90N, 150W-60W)\n",
    "assim_pids = []\n",
    "for pid, pobj in job.proxydb.records.items():\n",
    "    if pobj.lat >= 10 and pobj.lat <= 90 and pobj.lon >= np.mod(-150, 360) and pobj.lon <= np.mod(-60, 360):\n",
    "        assim_pids.append(pid)\n",
    "        \n",
    "job.proxydb.filter_pids(assim_pids, inplace=True)\n",
    "print(job.proxydb)"
   ]
  },
  {
   "cell_type": "code",
   "execution_count": 12,
   "metadata": {},
   "outputs": [
    {
     "name": "stdout",
     "output_type": "stream",
     "text": [
      "\u001b[1m\u001b[36mGraphEM: job.seasonalize_proxydb() >>> job.configs[\"ptype_season\"] = {'tree.TRW': [1, 2, 3, 4, 5, 6, 7, 8, 9, 10, 11, 12], 'tree.MXD': [1, 2, 3, 4, 5, 6, 7, 8, 9, 10, 11, 12]}\u001b[0m\n",
      "\u001b[1m\u001b[36mGraphEM: job.seasonalize_proxydb() >>> seasonalizing proxy records according to: {'tree.TRW': [1, 2, 3, 4, 5, 6, 7, 8, 9, 10, 11, 12], 'tree.MXD': [1, 2, 3, 4, 5, 6, 7, 8, 9, 10, 11, 12]}\u001b[0m\n",
      "\u001b[1m\u001b[32mGraphEM: job.seasonalize_proxydb() >>> 111 records remaining\u001b[0m\n",
      "\u001b[1m\u001b[32mGraphEM: job.seasonalize_proxydb() >>> job.proxydb updated\u001b[0m\n",
      "\u001b[1m\u001b[36mGraphEM: job.filter_proxydb() >>> filtering proxy records according to: ['coral.d18O', 'coral.SrCa', 'coral.calc', 'tree.TRW', 'tree.MXD']\u001b[0m\n",
      "\u001b[1m\u001b[32mGraphEM: job.filter_proxydb() >>> 111 records remaining\u001b[0m\n"
     ]
    }
   ],
   "source": [
    "ptype_season = {}\n",
    "for k, v in job.proxydb.type_dict.items():\n",
    "    ptype_season[k] = list(range(1, 13)) # annual\n",
    "    \n",
    "job.seasonalize_proxydb(ptype_season, verbose=True)\n",
    "job.filter_proxydb(verbose=True)"
   ]
  },
  {
   "cell_type": "code",
   "execution_count": 13,
   "metadata": {},
   "outputs": [
    {
     "name": "stdout",
     "output_type": "stream",
     "text": [
      "\u001b[1m\u001b[36mGraphEM: job.load_obs() >>> loading instrumental observation fields from: {'tas': '/Users/fzhu/Github/GraphEM/docsrc/tutorial/testcases/PAGES2k_HadCRUT_cropped_domain/data/obs/HadCRUT.5.0.1.0.analysis.anomalies.ensemble_mean.nc'}\u001b[0m\n",
      "\u001b[1m\u001b[32mGraphEM: job.load_obs() >>> job.obs created\u001b[0m\n"
     ]
    }
   ],
   "source": [
    "job.load_obs(varname_dict={'lat': 'latitude', 'lon': 'longitude', 'tas': 'tas_mean'}, verbose=True)"
   ]
  },
  {
   "cell_type": "code",
   "execution_count": 14,
   "metadata": {},
   "outputs": [
    {
     "name": "stdout",
     "output_type": "stream",
     "text": [
      "\u001b[1m\u001b[30mGraphEM: job.seasonalize_obs() >>> seasonalized obs w/ season [1, 2, 3, 4, 5, 6, 7, 8, 9, 10, 11, 12]\u001b[0m\n",
      "Dataset Overview\n",
      "-----------------------\n",
      "\n",
      "     Name:  tas\n",
      "   Source:  /Users/fzhu/Github/GraphEM/docsrc/tutorial/testcases/PAGES2k_HadCRUT_cropped_domain/data/obs/HadCRUT.5.0.1.0.analysis.anomalies.ensemble_mean.nc\n",
      "    Shape:  time:171, lat:36, lon:72\n",
      "\u001b[1m\u001b[32mGraphEM: job.seasonalize_obs() >>> job.obs updated\u001b[0m\n"
     ]
    },
    {
     "name": "stderr",
     "output_type": "stream",
     "text": [
      "/Users/fzhu/Github/LMRt/LMRt/utils.py:261: RuntimeWarning: Mean of empty slice\n",
      "  tmp = np.nanmean(var[inds, ...], axis=0)\n"
     ]
    }
   ],
   "source": [
    "job.seasonalize_obs(verbose=True)"
   ]
  },
  {
   "cell_type": "markdown",
   "metadata": {},
   "source": [
    "## Cropping the domain"
   ]
  },
  {
   "cell_type": "code",
   "execution_count": 15,
   "metadata": {},
   "outputs": [
    {
     "name": "stdout",
     "output_type": "stream",
     "text": [
      "Dataset Overview\n",
      "-----------------------\n",
      "\n",
      "     Name:  tas\n",
      "   Source:  /Users/fzhu/Github/GraphEM/docsrc/tutorial/testcases/PAGES2k_HadCRUT_cropped_domain/data/obs/HadCRUT.5.0.1.0.analysis.anomalies.ensemble_mean.nc\n",
      "    Shape:  time:171, lat:36, lon:72\n"
     ]
    }
   ],
   "source": [
    "print(job.obs)"
   ]
  },
  {
   "cell_type": "markdown",
   "metadata": {},
   "source": [
    "The current domain is global.\n",
    "We may call the `job.obs.crop()` method with the `domain_range` parameter to crop the domain.\n",
    "\n",
    "There are two ways of cropping the domain:\n",
    "+ crop only the latitudes with the input argument `domain_range = [lat_min, lat_max]`\n",
    "+ crop both the latitudes and longitudes the input argument `domain_range = [lat_min, lat_max, lon_min, lon_max]`"
   ]
  },
  {
   "cell_type": "code",
   "execution_count": 16,
   "metadata": {},
   "outputs": [
    {
     "name": "stdout",
     "output_type": "stream",
     "text": [
      "Dataset Overview\n",
      "-----------------------\n",
      "\n",
      "     Name:  tas\n",
      "   Source:  /Users/fzhu/Github/GraphEM/docsrc/tutorial/testcases/PAGES2k_HadCRUT_cropped_domain/data/obs/HadCRUT.5.0.1.0.analysis.anomalies.ensemble_mean.nc\n",
      "    Shape:  time:171, lat:8, lon:12\n"
     ]
    }
   ],
   "source": [
    "# crop the 30N-70N, 70W-130W region\n",
    "\n",
    "job.obs.crop([30, 70, np.mod(-130, 360), np.mod(-70, 360)], inplace=True)\n",
    "print(job.obs)"
   ]
  },
  {
   "cell_type": "markdown",
   "metadata": {},
   "source": [
    "## Data preparation"
   ]
  },
  {
   "cell_type": "code",
   "execution_count": 17,
   "metadata": {},
   "outputs": [
    {
     "name": "stdout",
     "output_type": "stream",
     "text": [
      "\u001b[1m\u001b[32mGraphEM: job.prep_data() >>> job.recon_time created\u001b[0m\n",
      "\u001b[1m\u001b[32mGraphEM: job.prep_data() >>> job.calib_time created\u001b[0m\n",
      "\u001b[1m\u001b[32mGraphEM: job.prep_data() >>> job.calib_idx created\u001b[0m\n",
      "\u001b[1m\u001b[32mGraphEM: job.prep_data() >>> job.temp created\u001b[0m\n",
      "\u001b[1m\u001b[32mGraphEM: job.prep_data() >>> job.df_proxy created\u001b[0m\n",
      "\u001b[1m\u001b[32mGraphEM: job.prep_data() >>> job.proxy created\u001b[0m\n",
      "\u001b[1m\u001b[32mGraphEM: job.prep_data() >>> job.lonlat created\u001b[0m\n"
     ]
    }
   ],
   "source": [
    "job.prep_data(verbose=True)"
   ]
  },
  {
   "cell_type": "code",
   "execution_count": 18,
   "metadata": {},
   "outputs": [
    {
     "data": {
      "text/html": [
       "<div>\n",
       "<style scoped>\n",
       "    .dataframe tbody tr th:only-of-type {\n",
       "        vertical-align: middle;\n",
       "    }\n",
       "\n",
       "    .dataframe tbody tr th {\n",
       "        vertical-align: top;\n",
       "    }\n",
       "\n",
       "    .dataframe thead th {\n",
       "        text-align: right;\n",
       "    }\n",
       "</style>\n",
       "<table border=\"1\" class=\"dataframe\">\n",
       "  <thead>\n",
       "    <tr style=\"text-align: right;\">\n",
       "      <th></th>\n",
       "      <th>NAm_153</th>\n",
       "      <th>NAm_165</th>\n",
       "      <th>NAm_046</th>\n",
       "      <th>NAm_193</th>\n",
       "      <th>NAm_194</th>\n",
       "      <th>NAm_188</th>\n",
       "      <th>NAm_156</th>\n",
       "      <th>NAm_154</th>\n",
       "      <th>NAm_122</th>\n",
       "      <th>NAm_186</th>\n",
       "      <th>...</th>\n",
       "      <th>NAm_172</th>\n",
       "      <th>NAm_201</th>\n",
       "      <th>NAm_202</th>\n",
       "      <th>NAm_136</th>\n",
       "      <th>NAm_137</th>\n",
       "      <th>NAm_203</th>\n",
       "      <th>NAm_204</th>\n",
       "      <th>NAm_108</th>\n",
       "      <th>NAm_018</th>\n",
       "      <th>NAm_143</th>\n",
       "    </tr>\n",
       "  </thead>\n",
       "  <tbody>\n",
       "    <tr>\n",
       "      <th>1500</th>\n",
       "      <td>NaN</td>\n",
       "      <td>NaN</td>\n",
       "      <td>1.026</td>\n",
       "      <td>NaN</td>\n",
       "      <td>NaN</td>\n",
       "      <td>0.613</td>\n",
       "      <td>NaN</td>\n",
       "      <td>NaN</td>\n",
       "      <td>NaN</td>\n",
       "      <td>NaN</td>\n",
       "      <td>...</td>\n",
       "      <td>NaN</td>\n",
       "      <td>NaN</td>\n",
       "      <td>NaN</td>\n",
       "      <td>0.764</td>\n",
       "      <td>NaN</td>\n",
       "      <td>0.814</td>\n",
       "      <td>0.901</td>\n",
       "      <td>NaN</td>\n",
       "      <td>0.769</td>\n",
       "      <td>NaN</td>\n",
       "    </tr>\n",
       "    <tr>\n",
       "      <th>1501</th>\n",
       "      <td>NaN</td>\n",
       "      <td>NaN</td>\n",
       "      <td>1.058</td>\n",
       "      <td>NaN</td>\n",
       "      <td>NaN</td>\n",
       "      <td>0.592</td>\n",
       "      <td>NaN</td>\n",
       "      <td>NaN</td>\n",
       "      <td>NaN</td>\n",
       "      <td>NaN</td>\n",
       "      <td>...</td>\n",
       "      <td>NaN</td>\n",
       "      <td>NaN</td>\n",
       "      <td>NaN</td>\n",
       "      <td>0.928</td>\n",
       "      <td>NaN</td>\n",
       "      <td>0.946</td>\n",
       "      <td>0.863</td>\n",
       "      <td>NaN</td>\n",
       "      <td>1.060</td>\n",
       "      <td>NaN</td>\n",
       "    </tr>\n",
       "    <tr>\n",
       "      <th>1502</th>\n",
       "      <td>NaN</td>\n",
       "      <td>NaN</td>\n",
       "      <td>1.088</td>\n",
       "      <td>NaN</td>\n",
       "      <td>NaN</td>\n",
       "      <td>0.633</td>\n",
       "      <td>NaN</td>\n",
       "      <td>NaN</td>\n",
       "      <td>NaN</td>\n",
       "      <td>NaN</td>\n",
       "      <td>...</td>\n",
       "      <td>NaN</td>\n",
       "      <td>NaN</td>\n",
       "      <td>NaN</td>\n",
       "      <td>0.937</td>\n",
       "      <td>NaN</td>\n",
       "      <td>0.969</td>\n",
       "      <td>0.914</td>\n",
       "      <td>NaN</td>\n",
       "      <td>0.953</td>\n",
       "      <td>NaN</td>\n",
       "    </tr>\n",
       "    <tr>\n",
       "      <th>1503</th>\n",
       "      <td>NaN</td>\n",
       "      <td>NaN</td>\n",
       "      <td>0.875</td>\n",
       "      <td>NaN</td>\n",
       "      <td>NaN</td>\n",
       "      <td>0.675</td>\n",
       "      <td>NaN</td>\n",
       "      <td>NaN</td>\n",
       "      <td>NaN</td>\n",
       "      <td>NaN</td>\n",
       "      <td>...</td>\n",
       "      <td>NaN</td>\n",
       "      <td>NaN</td>\n",
       "      <td>NaN</td>\n",
       "      <td>0.775</td>\n",
       "      <td>NaN</td>\n",
       "      <td>1.109</td>\n",
       "      <td>0.927</td>\n",
       "      <td>NaN</td>\n",
       "      <td>1.230</td>\n",
       "      <td>NaN</td>\n",
       "    </tr>\n",
       "    <tr>\n",
       "      <th>1504</th>\n",
       "      <td>NaN</td>\n",
       "      <td>NaN</td>\n",
       "      <td>1.139</td>\n",
       "      <td>NaN</td>\n",
       "      <td>NaN</td>\n",
       "      <td>0.882</td>\n",
       "      <td>NaN</td>\n",
       "      <td>NaN</td>\n",
       "      <td>NaN</td>\n",
       "      <td>NaN</td>\n",
       "      <td>...</td>\n",
       "      <td>NaN</td>\n",
       "      <td>NaN</td>\n",
       "      <td>NaN</td>\n",
       "      <td>0.834</td>\n",
       "      <td>NaN</td>\n",
       "      <td>1.090</td>\n",
       "      <td>0.838</td>\n",
       "      <td>NaN</td>\n",
       "      <td>1.203</td>\n",
       "      <td>NaN</td>\n",
       "    </tr>\n",
       "    <tr>\n",
       "      <th>...</th>\n",
       "      <td>...</td>\n",
       "      <td>...</td>\n",
       "      <td>...</td>\n",
       "      <td>...</td>\n",
       "      <td>...</td>\n",
       "      <td>...</td>\n",
       "      <td>...</td>\n",
       "      <td>...</td>\n",
       "      <td>...</td>\n",
       "      <td>...</td>\n",
       "      <td>...</td>\n",
       "      <td>...</td>\n",
       "      <td>...</td>\n",
       "      <td>...</td>\n",
       "      <td>...</td>\n",
       "      <td>...</td>\n",
       "      <td>...</td>\n",
       "      <td>...</td>\n",
       "      <td>...</td>\n",
       "      <td>...</td>\n",
       "      <td>...</td>\n",
       "    </tr>\n",
       "    <tr>\n",
       "      <th>1996</th>\n",
       "      <td>1.346</td>\n",
       "      <td>NaN</td>\n",
       "      <td>1.373</td>\n",
       "      <td>NaN</td>\n",
       "      <td>NaN</td>\n",
       "      <td>0.823</td>\n",
       "      <td>NaN</td>\n",
       "      <td>1.159</td>\n",
       "      <td>NaN</td>\n",
       "      <td>1.354</td>\n",
       "      <td>...</td>\n",
       "      <td>NaN</td>\n",
       "      <td>NaN</td>\n",
       "      <td>NaN</td>\n",
       "      <td>0.773</td>\n",
       "      <td>0.978</td>\n",
       "      <td>0.648</td>\n",
       "      <td>1.018</td>\n",
       "      <td>NaN</td>\n",
       "      <td>NaN</td>\n",
       "      <td>NaN</td>\n",
       "    </tr>\n",
       "    <tr>\n",
       "      <th>1997</th>\n",
       "      <td>NaN</td>\n",
       "      <td>NaN</td>\n",
       "      <td>1.153</td>\n",
       "      <td>NaN</td>\n",
       "      <td>NaN</td>\n",
       "      <td>0.564</td>\n",
       "      <td>NaN</td>\n",
       "      <td>1.358</td>\n",
       "      <td>NaN</td>\n",
       "      <td>1.134</td>\n",
       "      <td>...</td>\n",
       "      <td>NaN</td>\n",
       "      <td>NaN</td>\n",
       "      <td>NaN</td>\n",
       "      <td>0.602</td>\n",
       "      <td>1.017</td>\n",
       "      <td>0.752</td>\n",
       "      <td>0.976</td>\n",
       "      <td>NaN</td>\n",
       "      <td>NaN</td>\n",
       "      <td>NaN</td>\n",
       "    </tr>\n",
       "    <tr>\n",
       "      <th>1998</th>\n",
       "      <td>NaN</td>\n",
       "      <td>NaN</td>\n",
       "      <td>1.369</td>\n",
       "      <td>NaN</td>\n",
       "      <td>NaN</td>\n",
       "      <td>0.886</td>\n",
       "      <td>NaN</td>\n",
       "      <td>1.575</td>\n",
       "      <td>NaN</td>\n",
       "      <td>1.368</td>\n",
       "      <td>...</td>\n",
       "      <td>NaN</td>\n",
       "      <td>NaN</td>\n",
       "      <td>NaN</td>\n",
       "      <td>NaN</td>\n",
       "      <td>NaN</td>\n",
       "      <td>0.974</td>\n",
       "      <td>1.029</td>\n",
       "      <td>NaN</td>\n",
       "      <td>NaN</td>\n",
       "      <td>NaN</td>\n",
       "    </tr>\n",
       "    <tr>\n",
       "      <th>1999</th>\n",
       "      <td>NaN</td>\n",
       "      <td>NaN</td>\n",
       "      <td>1.502</td>\n",
       "      <td>NaN</td>\n",
       "      <td>NaN</td>\n",
       "      <td>0.798</td>\n",
       "      <td>NaN</td>\n",
       "      <td>1.050</td>\n",
       "      <td>NaN</td>\n",
       "      <td>0.830</td>\n",
       "      <td>...</td>\n",
       "      <td>NaN</td>\n",
       "      <td>NaN</td>\n",
       "      <td>NaN</td>\n",
       "      <td>NaN</td>\n",
       "      <td>NaN</td>\n",
       "      <td>0.702</td>\n",
       "      <td>1.031</td>\n",
       "      <td>NaN</td>\n",
       "      <td>NaN</td>\n",
       "      <td>NaN</td>\n",
       "    </tr>\n",
       "    <tr>\n",
       "      <th>2000</th>\n",
       "      <td>NaN</td>\n",
       "      <td>NaN</td>\n",
       "      <td>1.674</td>\n",
       "      <td>NaN</td>\n",
       "      <td>NaN</td>\n",
       "      <td>0.720</td>\n",
       "      <td>NaN</td>\n",
       "      <td>1.237</td>\n",
       "      <td>NaN</td>\n",
       "      <td>1.254</td>\n",
       "      <td>...</td>\n",
       "      <td>NaN</td>\n",
       "      <td>NaN</td>\n",
       "      <td>NaN</td>\n",
       "      <td>NaN</td>\n",
       "      <td>NaN</td>\n",
       "      <td>NaN</td>\n",
       "      <td>0.998</td>\n",
       "      <td>NaN</td>\n",
       "      <td>NaN</td>\n",
       "      <td>NaN</td>\n",
       "    </tr>\n",
       "  </tbody>\n",
       "</table>\n",
       "<p>501 rows × 111 columns</p>\n",
       "</div>"
      ],
      "text/plain": [
       "      NAm_153  NAm_165  NAm_046  NAm_193  NAm_194  NAm_188  NAm_156  NAm_154  \\\n",
       "1500      NaN      NaN    1.026      NaN      NaN    0.613      NaN      NaN   \n",
       "1501      NaN      NaN    1.058      NaN      NaN    0.592      NaN      NaN   \n",
       "1502      NaN      NaN    1.088      NaN      NaN    0.633      NaN      NaN   \n",
       "1503      NaN      NaN    0.875      NaN      NaN    0.675      NaN      NaN   \n",
       "1504      NaN      NaN    1.139      NaN      NaN    0.882      NaN      NaN   \n",
       "...       ...      ...      ...      ...      ...      ...      ...      ...   \n",
       "1996    1.346      NaN    1.373      NaN      NaN    0.823      NaN    1.159   \n",
       "1997      NaN      NaN    1.153      NaN      NaN    0.564      NaN    1.358   \n",
       "1998      NaN      NaN    1.369      NaN      NaN    0.886      NaN    1.575   \n",
       "1999      NaN      NaN    1.502      NaN      NaN    0.798      NaN    1.050   \n",
       "2000      NaN      NaN    1.674      NaN      NaN    0.720      NaN    1.237   \n",
       "\n",
       "      NAm_122  NAm_186  ...  NAm_172  NAm_201  NAm_202  NAm_136  NAm_137  \\\n",
       "1500      NaN      NaN  ...      NaN      NaN      NaN    0.764      NaN   \n",
       "1501      NaN      NaN  ...      NaN      NaN      NaN    0.928      NaN   \n",
       "1502      NaN      NaN  ...      NaN      NaN      NaN    0.937      NaN   \n",
       "1503      NaN      NaN  ...      NaN      NaN      NaN    0.775      NaN   \n",
       "1504      NaN      NaN  ...      NaN      NaN      NaN    0.834      NaN   \n",
       "...       ...      ...  ...      ...      ...      ...      ...      ...   \n",
       "1996      NaN    1.354  ...      NaN      NaN      NaN    0.773    0.978   \n",
       "1997      NaN    1.134  ...      NaN      NaN      NaN    0.602    1.017   \n",
       "1998      NaN    1.368  ...      NaN      NaN      NaN      NaN      NaN   \n",
       "1999      NaN    0.830  ...      NaN      NaN      NaN      NaN      NaN   \n",
       "2000      NaN    1.254  ...      NaN      NaN      NaN      NaN      NaN   \n",
       "\n",
       "      NAm_203  NAm_204  NAm_108  NAm_018  NAm_143  \n",
       "1500    0.814    0.901      NaN    0.769      NaN  \n",
       "1501    0.946    0.863      NaN    1.060      NaN  \n",
       "1502    0.969    0.914      NaN    0.953      NaN  \n",
       "1503    1.109    0.927      NaN    1.230      NaN  \n",
       "1504    1.090    0.838      NaN    1.203      NaN  \n",
       "...       ...      ...      ...      ...      ...  \n",
       "1996    0.648    1.018      NaN      NaN      NaN  \n",
       "1997    0.752    0.976      NaN      NaN      NaN  \n",
       "1998    0.974    1.029      NaN      NaN      NaN  \n",
       "1999    0.702    1.031      NaN      NaN      NaN  \n",
       "2000      NaN    0.998      NaN      NaN      NaN  \n",
       "\n",
       "[501 rows x 111 columns]"
      ]
     },
     "execution_count": 18,
     "metadata": {},
     "output_type": "execute_result"
    }
   ],
   "source": [
    "job.df_proxy"
   ]
  },
  {
   "cell_type": "code",
   "execution_count": 19,
   "metadata": {},
   "outputs": [
    {
     "name": "stdout",
     "output_type": "stream",
     "text": [
      "(501, 96)\n",
      "(501, 111)\n",
      "(207, 2)\n"
     ]
    }
   ],
   "source": [
    "print(np.shape(job.temp))\n",
    "print(np.shape(job.proxy))\n",
    "print(np.shape(job.lonlat))"
   ]
  },
  {
   "cell_type": "code",
   "execution_count": 20,
   "metadata": {},
   "outputs": [
    {
     "name": "stdout",
     "output_type": "stream",
     "text": [
      "\u001b[1m\u001b[36mLMRt: job.save_job() >>> Prepration data saved to: /Users/fzhu/Github/GraphEM/docsrc/tutorial/testcases/PAGES2k_HadCRUT_cropped_domain/recon/job.pkl\u001b[0m\n",
      "\u001b[1m\u001b[36mLMRt: job.save_job() >>> job.configs[\"prep_savepath\"] = /Users/fzhu/Github/GraphEM/docsrc/tutorial/testcases/PAGES2k_HadCRUT_cropped_domain/recon/job.pkl\u001b[0m\n"
     ]
    }
   ],
   "source": [
    "job.save(verbose=True)"
   ]
  },
  {
   "cell_type": "code",
   "execution_count": 21,
   "metadata": {
    "tags": []
   },
   "outputs": [
    {
     "name": "stdout",
     "output_type": "stream",
     "text": [
      "Estimating graph using neighborhood method\n",
      "Running GraphEM:\n",
      "\n",
      "Iter     dXmis     rdXmis\n",
      "\n",
      "001     0.0386     0.0930\n",
      "002     0.0959     0.2285\n",
      "003     0.1653     0.3785\n",
      "004     0.1087     0.2143\n",
      "005     0.0851     0.1510\n",
      "006     0.0792     0.1310\n",
      "007     0.0694     0.1079\n",
      "008     0.0585     0.0861\n",
      "009     0.0493     0.0694\n",
      "010     0.0429     0.0581\n",
      "011     0.0385     0.0505\n",
      "012     0.0356     0.0455\n",
      "013     0.0351     0.0437\n",
      "014     0.0330     0.0401\n",
      "015     0.0317     0.0377\n",
      "016     0.0306     0.0356\n",
      "017     0.0294     0.0336\n",
      "018     0.0283     0.0318\n",
      "019     0.0273     0.0300\n",
      "020     0.0262     0.0283\n",
      "021     0.0252     0.0267\n",
      "022     0.0242     0.0253\n",
      "023     0.0232     0.0239\n",
      "024     0.0223     0.0227\n",
      "025     0.0215     0.0215\n",
      "026     0.0207     0.0204\n",
      "027     0.0199     0.0194\n",
      "028     0.0192     0.0185\n",
      "029     0.0186     0.0177\n",
      "030     0.0212     0.0199\n",
      "031     0.0190     0.0177\n",
      "032     0.0196     0.0180\n",
      "033     0.0183     0.0167\n",
      "034     0.0186     0.0167\n",
      "035     0.0163     0.0145\n",
      "036     0.0156     0.0138\n",
      "037     0.0151     0.0132\n",
      "038     0.0147     0.0127\n",
      "039     0.0143     0.0123\n",
      "040     0.0140     0.0119\n",
      "041     0.0137     0.0115\n",
      "042     0.0134     0.0112\n",
      "043     0.0131     0.0109\n",
      "044     0.0129     0.0106\n",
      "045     0.0126     0.0104\n",
      "046     0.0124     0.0101\n",
      "047     0.0122     0.0099\n",
      "048     0.0120     0.0097\n",
      "049     0.0118     0.0094\n",
      "050     0.0117     0.0092\n",
      "051     0.0115     0.0091\n",
      "052     0.0113     0.0089\n",
      "053     0.0112     0.0087\n",
      "054     0.0110     0.0085\n",
      "055     0.0109     0.0084\n",
      "056     0.0108     0.0082\n",
      "057     0.0106     0.0081\n",
      "058     0.0105     0.0079\n",
      "059     0.0104     0.0078\n",
      "060     0.0102     0.0076\n",
      "061     0.0101     0.0075\n",
      "062     0.0100     0.0074\n",
      "063     0.0099     0.0073\n",
      "064     0.0097     0.0071\n",
      "065     0.0096     0.0070\n",
      "066     0.0095     0.0069\n",
      "067     0.0094     0.0068\n",
      "068     0.0093     0.0067\n",
      "069     0.0092     0.0066\n",
      "070     0.0091     0.0065\n",
      "071     0.0089     0.0064\n",
      "072     0.0088     0.0063\n",
      "073     0.0087     0.0062\n",
      "074     0.0086     0.0061\n",
      "075     0.0085     0.0060\n",
      "076     0.0084     0.0059\n",
      "077     0.0083     0.0058\n",
      "078     0.0082     0.0057\n",
      "079     0.0081     0.0056\n",
      "080     0.0080     0.0055\n",
      "081     0.0080     0.0054\n",
      "082     0.0079     0.0054\n",
      "083     0.0078     0.0053\n",
      "084     0.0077     0.0052\n",
      "085     0.0076     0.0051\n",
      "086     0.0075     0.0050\n",
      "087     0.0074     0.0050\n",
      "\u001b[1m\u001b[32mGraphEM: job.run_solver() >>> job.G created and saved to: ./testcases/PAGES2k_HadCRUT_cropped_domain/recon/G.pkl\u001b[0m\n",
      "\u001b[1m\u001b[32mGraphEM: job.run_solver() >>> job.recon created\u001b[0m\n",
      "CPU times: user 1min 26s, sys: 24 s, total: 1min 50s\n",
      "Wall time: 15.2 s\n"
     ]
    }
   ],
   "source": [
    "%%time\n",
    "\n",
    "save_path = './testcases/PAGES2k_HadCRUT_cropped_domain/recon/G.pkl'\n",
    "job.run_solver(save_path=save_path, verbose=True, distance=1e3, maxit=100)"
   ]
  },
  {
   "cell_type": "code",
   "execution_count": 22,
   "metadata": {},
   "outputs": [
    {
     "data": {
      "text/plain": [
       "(501, 8, 12)"
      ]
     },
     "execution_count": 22,
     "metadata": {},
     "output_type": "execute_result"
    }
   ],
   "source": [
    "np.shape(job.recon)"
   ]
  },
  {
   "cell_type": "code",
   "execution_count": 23,
   "metadata": {},
   "outputs": [
    {
     "name": "stdout",
     "output_type": "stream",
     "text": [
      "\u001b[1m\u001b[36mLMRt: job.save_recon() >>> Reconstruction saved to: ./testcases/PAGES2k_HadCRUT_cropped_domain/recon/recon.nc\u001b[0m\n"
     ]
    }
   ],
   "source": [
    "job.save_recon(f'./testcases/PAGES2k_HadCRUT_cropped_domain/recon/recon.nc', verbose=True)"
   ]
  },
  {
   "cell_type": "markdown",
   "metadata": {},
   "source": [
    "## Validation"
   ]
  },
  {
   "cell_type": "code",
   "execution_count": 24,
   "metadata": {},
   "outputs": [
    {
     "name": "stdout",
     "output_type": "stream",
     "text": [
      "<xarray.Dataset>\n",
      "Dimensions:  (lat: 8, lon: 12, year: 501)\n",
      "Coordinates:\n",
      "  * year     (year) int64 1500 1501 1502 1503 1504 ... 1996 1997 1998 1999 2000\n",
      "  * lat      (lat) float64 32.5 37.5 42.5 47.5 52.5 57.5 62.5 67.5\n",
      "  * lon      (lon) float64 232.5 237.5 242.5 247.5 ... 272.5 277.5 282.5 287.5\n",
      "Data variables:\n",
      "    recon    (year, lat, lon) float64 ...\n"
     ]
    }
   ],
   "source": [
    "with xr.open_dataset('./testcases/PAGES2k_HadCRUT_cropped_domain/recon/recon.nc') as ds:\n",
    "    print(ds)\n",
    "    recon = ds['recon']\n",
    "    lat = ds['lat']\n",
    "    lon = ds['lon']\n",
    "    year = ds['year']"
   ]
  },
  {
   "cell_type": "code",
   "execution_count": 25,
   "metadata": {},
   "outputs": [
    {
     "name": "stdout",
     "output_type": "stream",
     "text": [
      "(81, 8, 12)\n"
     ]
    }
   ],
   "source": [
    "mask = (ds['recon'].year>=1850) & (ds['recon'].year<=1930)\n",
    "tas_recon = ds['recon'].values[mask]\n",
    "print(np.shape(tas_recon))"
   ]
  },
  {
   "cell_type": "code",
   "execution_count": 26,
   "metadata": {},
   "outputs": [
    {
     "name": "stdout",
     "output_type": "stream",
     "text": [
      "(81, 8, 12)\n"
     ]
    }
   ],
   "source": [
    "tas_obs = job.obs.fields['tas']\n",
    "mask = (tas_obs.time>=1850) & (tas_obs.time<=1930)\n",
    "print(np.shape(tas_obs.value[mask]))"
   ]
  },
  {
   "cell_type": "code",
   "execution_count": 27,
   "metadata": {},
   "outputs": [],
   "source": [
    "ce = LMRt.utils.coefficient_efficiency(tas_recon, tas_obs.value[mask])\n"
   ]
  },
  {
   "cell_type": "code",
   "execution_count": 28,
   "metadata": {},
   "outputs": [
    {
     "data": {
      "image/png": "[encoded data removed]",
      "text/plain": [
       "<Figure size 800x800 with 2 Axes>"
      ]
     },
     "metadata": {},
     "output_type": "display_data"
    }
   ],
   "source": [
    "import seaborn as sns\n",
    "import cartopy.crs as ccrs\n",
    "import cartopy.feature as cfeature\n",
    "from cartopy.mpl.ticker import LongitudeFormatter, LatitudeFormatter\n",
    "\n",
    "fig = plt.figure(figsize=[8, 8])\n",
    "ax = plt.subplot(projection=ccrs.PlateCarree(central_longitude=180))\n",
    "ax.set_title('Coefficient of Efficiency')\n",
    "# latlon_range = [0, 360, -90, 90]\n",
    "latlon_range = [np.mod(-130, 360), np.mod(-70, 360), 30, 70]\n",
    "transform=ccrs.PlateCarree()\n",
    "\n",
    "ax.set_extent(latlon_range, crs=transform)\n",
    "lon_formatter = LongitudeFormatter(zero_direction_label=False)\n",
    "lat_formatter = LatitudeFormatter()\n",
    "ax.xaxis.set_major_formatter(lon_formatter)\n",
    "ax.yaxis.set_major_formatter(lat_formatter)\n",
    "\n",
    "lon_ticks=[60, 120, 180, 240, 300]\n",
    "lat_ticks=[-90, -45, 0, 45, 90]\n",
    "lon_ticks = np.array(lon_ticks)\n",
    "lat_ticks = np.array(lat_ticks)\n",
    "lon_min, lon_max, lat_min, lat_max = latlon_range\n",
    "mask_lon = (lon_ticks >= lon_min) & (lon_ticks <= lon_max)\n",
    "mask_lat = (lat_ticks >= lat_min) & (lat_ticks <= lat_max)\n",
    "ax.set_xticks(lon_ticks[mask_lon], crs=ccrs.PlateCarree())\n",
    "ax.set_yticks(lat_ticks[mask_lat], crs=ccrs.PlateCarree())\n",
    "\n",
    "levels = np.linspace(-1, 1, 21)\n",
    "cbar_labels = np.linspace(-1, 1, 11)\n",
    "cbar_title = 'CE'\n",
    "extend = 'both'\n",
    "cmap = 'RdBu_r'\n",
    "cbar_pad=0.1\n",
    "cbar_orientation='horizontal'\n",
    "cbar_aspect=10\n",
    "cbar_fraction=0.35\n",
    "cbar_shrink=0.8\n",
    "font_scale=1.5\n",
    "land_color=sns.xkcd_rgb['light grey']\n",
    "ocean_color=sns.xkcd_rgb['white']\n",
    "\n",
    "ax.add_feature(cfeature.LAND, facecolor=land_color, edgecolor=land_color)\n",
    "ax.add_feature(cfeature.OCEAN, facecolor=ocean_color, edgecolor=ocean_color)\n",
    "ax.coastlines()\n",
    "im = ax.contourf(ds['lon'].values, ds['lat'].values, ce, levels, transform=transform, cmap=cmap, extend=extend)\n",
    "cbar = fig.colorbar(\n",
    "    im, ax=ax, orientation=cbar_orientation, pad=cbar_pad, aspect=cbar_aspect,\n",
    "    fraction=cbar_fraction, shrink=cbar_shrink)\n",
    "cbar.set_ticks(cbar_labels)\n",
    "cbar.ax.set_title(cbar_title, x=-0.05, y=0.1)\n",
    "\n",
    "LMRt.showfig(fig)"
   ]
  },
  {
   "cell_type": "code",
   "execution_count": null,
   "metadata": {},
   "outputs": [],
   "source": []
  }
 ],
 "metadata": {
  "kernelspec": {
   "display_name": "Python 3",
   "language": "python",
   "name": "python3"
  },
  "language_info": {
   "codemirror_mode": {
    "name": "ipython",
    "version": 3
   },
   "file_extension": ".py",
   "mimetype": "text/x-python",
   "name": "python",
   "nbconvert_exporter": "python",
   "pygments_lexer": "ipython3",
   "version": "3.8.12"
  }
 },
 "nbformat": 4,
 "nbformat_minor": 4
}
