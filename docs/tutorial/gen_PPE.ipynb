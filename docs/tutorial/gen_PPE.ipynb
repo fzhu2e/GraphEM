{
 "cells": [
  {
   "cell_type": "code",
   "execution_count": 1,
   "id": "37125d32-f6c7-4d35-86ae-c56702272ccd",
   "metadata": {},
   "outputs": [],
   "source": [
    "%load_ext autoreload\n",
    "%autoreload 2\n",
    "\n",
    "import LMRt\n",
    "import GraphEM\n",
    "import os\n",
    "import numpy as np\n",
    "import pandas as pd\n",
    "import xarray as xr\n",
    "import matplotlib.pyplot as  plt"
   ]
  },
  {
   "cell_type": "code",
   "execution_count": 28,
   "id": "8712d914-858a-450c-adda-f5635e7457ea",
   "metadata": {},
   "outputs": [
    {
     "name": "stdout",
     "output_type": "stream",
     "text": [
      "<xarray.DataArray 'time' (time: 12000)>\n",
      "array([cftime.DatetimeNoLeap(850, 1, 17, 0, 0, 0, 0),\n",
      "       cftime.DatetimeNoLeap(850, 2, 14, 0, 0, 0, 0),\n",
      "       cftime.DatetimeNoLeap(850, 3, 17, 0, 0, 0, 0), ...,\n",
      "       cftime.DatetimeNoLeap(1849, 10, 17, 0, 0, 0, 0),\n",
      "       cftime.DatetimeNoLeap(1849, 11, 16, 0, 0, 0, 0),\n",
      "       cftime.DatetimeNoLeap(1849, 12, 17, 0, 0, 0, 0)], dtype=object)\n",
      "Coordinates:\n",
      "  * time     (time) object 0850-01-17 00:00:00 ... 1849-12-17 00:00:00\n",
      "Attributes:\n",
      "    description:    time\n",
      "    long_name:      time\n",
      "    standard_name:  time\n"
     ]
    }
   ],
   "source": [
    "dirpath = '/Users/fzhu/Github/GraphEM/docsrc/tutorial/testcases/PPE/data/obs/'\n",
    "filename = 'tas_sfc_Amon_iCESM_past1000_085001-184912.nc'\n",
    "model_dirpath = '/Users/fzhu/SynologyDrive/Academic/Projects/volcLMR/LMR_input/data/model/icesm_last_millennium'\n",
    "\n",
    "with xr.open_dataset(os.path.join(model_dirpath, filename)) as ds:\n",
    "#     print(ds)\n",
    "#     print(ds['tas'])\n",
    "    print(ds['time'])"
   ]
  },
  {
   "cell_type": "code",
   "execution_count": 30,
   "id": "e158eb24-df1d-435c-9193-4b3712abd233",
   "metadata": {},
   "outputs": [],
   "source": [
    "ds = LMRt.Dataset()\n",
    "ds.load_nc(\n",
    "    {'tas': os.path.join(model_dirpath, filename)},\n",
    "    varname_dict={'tas': 'tas'},\n",
    "    inplace=True\n",
    ")"
   ]
  },
  {
   "cell_type": "code",
   "execution_count": 31,
   "id": "22e84a62-af96-4d04-8548-1889823cc9e7",
   "metadata": {},
   "outputs": [],
   "source": [
    "ds.seasonalize(list(range(1, 13)), inplace=True)"
   ]
  },
  {
   "cell_type": "code",
   "execution_count": 32,
   "id": "b3cb9ed9-ce66-41b0-8da6-1e379f8ba21f",
   "metadata": {},
   "outputs": [
    {
     "name": "stdout",
     "output_type": "stream",
     "text": [
      "Dataset Overview\n",
      "-----------------------\n",
      "\n",
      "     Name:  tas\n",
      "   Source:  /Users/fzhu/SynologyDrive/Academic/Projects/volcLMR/LMR_input/data/model/icesm_last_millennium/tas_sfc_Amon_iCESM_past1000_085001-184912.nc\n",
      "    Shape:  time:1000, lat:96, lon:144\n"
     ]
    }
   ],
   "source": [
    "print(ds)"
   ]
  },
  {
   "cell_type": "code",
   "execution_count": 33,
   "id": "83875982-4ad0-4b64-a7bd-ad6464abfa05",
   "metadata": {},
   "outputs": [
    {
     "name": "stdout",
     "output_type": "stream",
     "text": [
      "(1000, 10, 10)\n"
     ]
    }
   ],
   "source": [
    "tas = ds.fields['tas']\n",
    "tas_sub = tas.value[:, 45:55, 65:75]\n",
    "lat_sub = tas.lat[45:55]\n",
    "lon_sub = tas.lon[65:75]\n",
    "year = tas.time\n",
    "print(np.shape(tas_sub))\n",
    "# print(year)"
   ]
  },
  {
   "cell_type": "code",
   "execution_count": 53,
   "id": "165b6690-c570-42da-b687-efd612d55cc3",
   "metadata": {},
   "outputs": [],
   "source": [
    "import cftime\n",
    "\n",
    "output_dict = {}\n",
    "output_dict['tas'] = (('time', 'lat', 'lon'), tas_sub)\n",
    "\n",
    "ds = xr.Dataset(\n",
    "    data_vars=output_dict,\n",
    "    coords={\n",
    "        'time': [cftime.DatetimeNoLeap(y, 1, 1) for y in year],\n",
    "        'lat': lat_sub,\n",
    "        'lon': lon_sub,\n",
    "    }\n",
    ")\n",
    "ds.to_netcdf('./testcases/PPE/data/obs/iCESM_subset.nc')"
   ]
  },
  {
   "cell_type": "code",
   "execution_count": 50,
   "id": "f64b0430-3eb3-4c6e-830d-3823eba4b1df",
   "metadata": {},
   "outputs": [
    {
     "name": "stdout",
     "output_type": "stream",
     "text": [
      "<xarray.Dataset>\n",
      "Dimensions:  (lat: 10, lon: 10, time: 1000)\n",
      "Coordinates:\n",
      "  * time     (time) object 0850-01-01 00:00:00 ... 1849-01-01 00:00:00\n",
      "  * lat      (lat) float32 -4.737 -2.842 -0.9474 0.9474 ... 8.526 10.42 12.32\n",
      "  * lon      (lon) float32 162.5 165.0 167.5 170.0 ... 177.5 180.0 182.5 185.0\n",
      "Data variables:\n",
      "    tas      (time, lat, lon) float64 300.0 300.0 299.9 ... 299.3 299.3 299.2\n"
     ]
    }
   ],
   "source": [
    "print(ds)"
   ]
  },
  {
   "cell_type": "code",
   "execution_count": 7,
   "id": "b9316f38-2616-4566-9068-82fcdd3b26de",
   "metadata": {},
   "outputs": [],
   "source": [
    "# gen pseudoproxy\n",
    "\n",
    "SNR = 1\n",
    "\n",
    "pp = np.copy(tas_sub)\n",
    "nt, nlat, nlon = np.shape(pp)\n",
    "\n",
    "k = 0\n",
    "for i in range(nlat):\n",
    "    for j in range(nlon):\n",
    "        tas_std = np.std(tas_sub[:,i,j])\n",
    "        noise_std = tas_std / SNR\n",
    "        \n",
    "        np.random.seed(k)\n",
    "        pp[:,i,j] += np.random.normal(0, noise_std, size=nt)\n",
    "        \n",
    "        k += 1"
   ]
  },
  {
   "cell_type": "code",
   "execution_count": 8,
   "id": "ef477038-9cec-45bc-89e3-44d9d4dad29b",
   "metadata": {
    "tags": []
   },
   "outputs": [
    {
     "data": {
      "text/plain": [
       "Index(['paleoData_pages2kID', 'dataSetName', 'archiveType', 'geo_meanElev',\n",
       "       'geo_meanLat', 'geo_meanLon', 'year', 'yearUnits',\n",
       "       'paleoData_variableName', 'paleoData_units', 'paleoData_values',\n",
       "       'paleoData_proxy'],\n",
       "      dtype='object')"
      ]
     },
     "execution_count": 8,
     "metadata": {},
     "output_type": "execute_result"
    }
   ],
   "source": [
    "df = pd.read_pickle('./testcases/PAGES2k_HadCRUT/data/proxy/pages2k_dataset.pkl')\n",
    "df.columns"
   ]
  },
  {
   "cell_type": "code",
   "execution_count": 9,
   "id": "feccec88-4ab5-4db7-a2c1-b684b91b1a70",
   "metadata": {},
   "outputs": [
    {
     "data": {
      "text/plain": [
       "0                  TRW\n",
       "1             historic\n",
       "2                  MXD\n",
       "3                  TRW\n",
       "4                  TRW\n",
       "            ...       \n",
       "687                TRW\n",
       "688                TRW\n",
       "689    varve thickness\n",
       "690               d18O\n",
       "691              Sr/Ca\n",
       "Name: paleoData_proxy, Length: 692, dtype: object"
      ]
     },
     "execution_count": 9,
     "metadata": {},
     "output_type": "execute_result"
    }
   ],
   "source": [
    "df['paleoData_proxy']"
   ]
  },
  {
   "cell_type": "code",
   "execution_count": 10,
   "id": "810c0a8a-8898-40c6-a7d0-6b7ee524e25f",
   "metadata": {},
   "outputs": [],
   "source": [
    "df_pp = pd.DataFrame(columns=df.columns)\n",
    "k = 0\n",
    "for i in range(nlat):\n",
    "    for j in range(nlon):\n",
    "        df_pp.loc[k, 'paleoData_pages2kID'] = f'pp_{k:03d}'\n",
    "        df_pp.loc[k, 'dataSetName'] = 'pseudoproxy'\n",
    "        df_pp.loc[k, 'archiveType'] = 'coral'\n",
    "        df_pp.loc[k, 'geo_meanElev'] = np.nan\n",
    "        df_pp.loc[k, 'geo_meanLat'] = lat_sub[i]\n",
    "        df_pp.loc[k, 'geo_meanLon'] = lon_sub[j]\n",
    "        df_pp.loc[k, 'year'] = year\n",
    "        df_pp.loc[k, 'yearUnits'] = 'CE'\n",
    "        df_pp.loc[k, 'paleoData_proxy'] = 'd18O'\n",
    "        df_pp.loc[k, 'paleoData_values'] = pp[:,i,j]\n",
    "        k += 1"
   ]
  },
  {
   "cell_type": "code",
   "execution_count": 11,
   "id": "58756559-a96d-4e4d-8fb6-4f99685b541f",
   "metadata": {},
   "outputs": [],
   "source": [
    "df_pp.to_pickle('./testcases/PPE/data/proxy/pseudoproxy_dataset.pkl')"
   ]
  },
  {
   "cell_type": "code",
   "execution_count": null,
   "id": "7d65c0da-fcfc-4e11-8419-be996162180a",
   "metadata": {},
   "outputs": [],
   "source": []
  }
 ],
 "metadata": {
  "kernelspec": {
   "display_name": "Python 3",
   "language": "python",
   "name": "python3"
  },
  "language_info": {
   "codemirror_mode": {
    "name": "ipython",
    "version": 3
   },
   "file_extension": ".py",
   "mimetype": "text/x-python",
   "name": "python",
   "nbconvert_exporter": "python",
   "pygments_lexer": "ipython3",
   "version": "3.8.8"
  }
 },
 "nbformat": 4,
 "nbformat_minor": 5
}
